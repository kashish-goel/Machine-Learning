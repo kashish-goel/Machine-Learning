{
 "cells": [
  {
   "cell_type": "code",
   "execution_count": 13,
   "metadata": {},
   "outputs": [
    {
     "data": {
      "text/plain": [
       "'Sthali'"
      ]
     },
     "execution_count": 13,
     "metadata": {},
     "output_type": "execute_result"
    }
   ],
   "source": [
    "str = \"Banasthali\"\n",
    "ss=str[4:]\n",
    "ss.capitalize() #Converts first letter in Upper Case"
   ]
  },
  {
   "cell_type": "code",
   "execution_count": 18,
   "metadata": {},
   "outputs": [
    {
     "data": {
      "text/plain": [
       "12"
      ]
     },
     "execution_count": 18,
     "metadata": {},
     "output_type": "execute_result"
    }
   ],
   "source": [
    "str=\"This is Banasthali Vidyapith\"\n",
    "ss=\"sthali\"\n",
    "str.find(ss)"
   ]
  },
  {
   "cell_type": "code",
   "execution_count": 21,
   "metadata": {},
   "outputs": [
    {
     "data": {
      "text/plain": [
       "False"
      ]
     },
     "execution_count": 21,
     "metadata": {},
     "output_type": "execute_result"
    }
   ],
   "source": [
    "str=\"\"\n",
    "str.isalnum()"
   ]
  },
  {
   "cell_type": "code",
   "execution_count": 25,
   "metadata": {},
   "outputs": [
    {
     "data": {
      "text/plain": [
       "True"
      ]
     },
     "execution_count": 25,
     "metadata": {},
     "output_type": "execute_result"
    }
   ],
   "source": [
    "str=\"Kavita\"\n",
    "str[4].isalpha()"
   ]
  },
  {
   "cell_type": "code",
   "execution_count": 29,
   "metadata": {},
   "outputs": [
    {
     "data": {
      "text/plain": [
       "True"
      ]
     },
     "execution_count": 29,
     "metadata": {},
     "output_type": "execute_result"
    }
   ],
   "source": [
    "str=\"1234\"\n",
    "str.isdigit()"
   ]
  },
  {
   "cell_type": "code",
   "execution_count": 31,
   "metadata": {},
   "outputs": [
    {
     "data": {
      "text/plain": [
       "True"
      ]
     },
     "execution_count": 31,
     "metadata": {},
     "output_type": "execute_result"
    }
   ],
   "source": [
    "str=\"banasthali\"\n",
    "str.islower()"
   ]
  },
  {
   "cell_type": "code",
   "execution_count": 33,
   "metadata": {},
   "outputs": [
    {
     "data": {
      "text/plain": [
       "True"
      ]
     },
     "execution_count": 33,
     "metadata": {},
     "output_type": "execute_result"
    }
   ],
   "source": [
    "str=\"BANASTHALI\"\n",
    "str.isupper()"
   ]
  },
  {
   "cell_type": "code",
   "execution_count": 1,
   "metadata": {},
   "outputs": [
    {
     "data": {
      "text/plain": [
       "False"
      ]
     },
     "execution_count": 1,
     "metadata": {},
     "output_type": "execute_result"
    }
   ],
   "source": [
    "str=\"Banasthali Vidyapith\"\n",
    "str[11].isspace()"
   ]
  },
  {
   "cell_type": "code",
   "execution_count": 2,
   "metadata": {},
   "outputs": [
    {
     "data": {
      "text/plain": [
       "'banasthali'"
      ]
     },
     "execution_count": 2,
     "metadata": {},
     "output_type": "execute_result"
    }
   ],
   "source": [
    "str=\"Banasthali\"\n",
    "str.lower()"
   ]
  },
  {
   "cell_type": "code",
   "execution_count": 3,
   "metadata": {},
   "outputs": [
    {
     "data": {
      "text/plain": [
       "'BANASTHALI'"
      ]
     },
     "execution_count": 3,
     "metadata": {},
     "output_type": "execute_result"
    }
   ],
   "source": [
    "str.upper()"
   ]
  },
  {
   "cell_type": "code",
   "execution_count": 4,
   "metadata": {},
   "outputs": [],
   "source": [
    "str=\"This is Banasthali Vidyapith\"\n",
    "lstr = str.split()"
   ]
  },
  {
   "cell_type": "code",
   "execution_count": 5,
   "metadata": {},
   "outputs": [
    {
     "data": {
      "text/plain": [
       "['This', 'is', 'Banasthali', 'Vidyapith']"
      ]
     },
     "execution_count": 5,
     "metadata": {},
     "output_type": "execute_result"
    }
   ],
   "source": [
    "lstr"
   ]
  },
  {
   "cell_type": "code",
   "execution_count": 6,
   "metadata": {},
   "outputs": [
    {
     "data": {
      "text/plain": [
       "'Banasthali'"
      ]
     },
     "execution_count": 6,
     "metadata": {},
     "output_type": "execute_result"
    }
   ],
   "source": [
    "lstr[2]"
   ]
  },
  {
   "cell_type": "code",
   "execution_count": 7,
   "metadata": {},
   "outputs": [
    {
     "data": {
      "text/plain": [
       "28"
      ]
     },
     "execution_count": 7,
     "metadata": {},
     "output_type": "execute_result"
    }
   ],
   "source": [
    "len(str)"
   ]
  },
  {
   "cell_type": "code",
   "execution_count": 8,
   "metadata": {},
   "outputs": [
    {
     "data": {
      "text/plain": [
       "4"
      ]
     },
     "execution_count": 8,
     "metadata": {},
     "output_type": "execute_result"
    }
   ],
   "source": [
    "len(lstr)"
   ]
  },
  {
   "cell_type": "code",
   "execution_count": 10,
   "metadata": {},
   "outputs": [
    {
     "name": "stdout",
     "output_type": "stream",
     "text": [
      "This\n",
      "is\n",
      "Banasthali\n",
      "Vidyapith\n"
     ]
    }
   ],
   "source": [
    "for i in lstr:\n",
    "    print(i)"
   ]
  },
  {
   "cell_type": "markdown",
   "metadata": {},
   "source": [
    "# Lab 3\n",
    "1. WAP to check if a string is Palindrome or not\n",
    "2. WAP that takes string as multiple words and then capitalize the first letter of each word and forms a new string\n",
    "3. WAP to read a string and display the longest substring of the given string having just the consonants\n",
    "4. WAP to read a string and then prints a sting that capitalizes every other letter in the string e.g. goel becomes gOeL\n",
    "5. WAP to read an email id of a person and vertify if it belongs to banasthali.in domain\n",
    "6. WAP to count the number of vowels and consonants in an input string\n",
    "7. WAP to read a sentnece and count the articles it has\n",
    "8. WAP to check if a sentence is a paniltimate or not\n",
    "9. WAP to read a string and check if it has \"good\" in it"
   ]
  },
  {
   "cell_type": "code",
   "execution_count": 5,
   "metadata": {},
   "outputs": [
    {
     "name": "stdout",
     "output_type": "stream",
     "text": [
      "Enter a stringKash\n",
      "Kash\n",
      "hsaK\n",
      "Not palindrome\n"
     ]
    }
   ],
   "source": [
    "# Exercise 3 prg 1\n",
    "str = input(\"Enter a string\")\n",
    "ss= str[::-1]                 #to reverse the string\n",
    "print(str)\n",
    "print(ss)\n",
    "if(str == ss):\n",
    "    print(\"palindrome\")\n",
    "else:\n",
    "    print('Not palindrome')"
   ]
  },
  {
   "cell_type": "code",
   "execution_count": 18,
   "metadata": {},
   "outputs": [
    {
     "name": "stdout",
     "output_type": "stream",
     "text": [
      "Enter stringthis is me\n",
      "ThisIsMe\n"
     ]
    }
   ],
   "source": [
    "# Exercise 3 prg 2\n",
    "str = input(\"Enter string\")\n",
    "s = \"\"\n",
    "lstr = str.split()\n",
    "for i in range(0,len(lstr)):\n",
    "    lstr[i] = lstr[i].capitalize()\n",
    "    #lstr[i] = lstr[i].replace(lstr[i][0],lstr[i][0].upper())\n",
    "print(s.join(lstr))"
   ]
  },
  {
   "cell_type": "code",
   "execution_count": null,
   "metadata": {},
   "outputs": [],
   "source": [
    "# Exercise 3 prg 3\n",
    "str = input(\"Enter string\")\n"
   ]
  },
  {
   "cell_type": "code",
   "execution_count": 33,
   "metadata": {},
   "outputs": [
    {
     "name": "stdout",
     "output_type": "stream",
     "text": [
      "Enter string goel\n",
      " gOeL\n"
     ]
    }
   ],
   "source": [
    "# Exercise 3 prg 4\n",
    "str = input(\"Enter string\")\n",
    "for i in range(0,len(str),2):\n",
    "    str = str.replace(str[i],str[i].upper())\n",
    "print(str)"
   ]
  },
  {
   "cell_type": "code",
   "execution_count": 29,
   "metadata": {},
   "outputs": [
    {
     "name": "stdout",
     "output_type": "stream",
     "text": [
      "Enter emailjhfrg@banasthali.in\n",
      "Verified\n"
     ]
    }
   ],
   "source": [
    "# Exercise 3 prg 5\n",
    "str = input(\"Enter email\")\n",
    "a = str.find(\"@\")\n",
    "s = \"banasthali.in\"\n",
    "if(str[a+1:] == s):\n",
    "    print(\"Verified\")\n",
    "else:\n",
    "    print(\"Wrong email\")\n",
    "    "
   ]
  },
  {
   "cell_type": "code",
   "execution_count": 25,
   "metadata": {},
   "outputs": [
    {
     "name": "stdout",
     "output_type": "stream",
     "text": [
      "Enter string hello this is me\n",
      "0\n",
      "5\n",
      "8\n"
     ]
    }
   ],
   "source": [
    "# Exercise 3 prg 6,7\n",
    "str = input(\"Enter string\")\n",
    "articles = int(str.count(\"a\")+str.count(\"an\")+str.count(\"the\"))\n",
    "vowel = int(str.count(\"a\")+str.count(\"e\")+str.count(\"i\")+str.count(\"o\")+str.count(\"u\"))\n",
    "consonents = int(len(str)-vowel-str.count(\" \"))\n",
    "print(articles)\n",
    "print(vowel)\n",
    "print(consonents)"
   ]
  },
  {
   "cell_type": "code",
   "execution_count": 22,
   "metadata": {},
   "outputs": [
    {
     "name": "stdout",
     "output_type": "stream",
     "text": [
      "Enter string theres no\n",
      "no\n"
     ]
    }
   ],
   "source": [
    "# Exercise 3 prg 9\n",
    "str = input(\"Enter string\")\n",
    "if(str.find(\"good\") >= 0):\n",
    "    print(\"yes\")\n",
    "else:\n",
    "    print(\"no\")"
   ]
  }
 ],
 "metadata": {
  "kernelspec": {
   "display_name": "Python 3",
   "language": "python",
   "name": "python3"
  },
  "language_info": {
   "codemirror_mode": {
    "name": "ipython",
    "version": 3
   },
   "file_extension": ".py",
   "mimetype": "text/x-python",
   "name": "python",
   "nbconvert_exporter": "python",
   "pygments_lexer": "ipython3",
   "version": "3.8.5"
  }
 },
 "nbformat": 4,
 "nbformat_minor": 2
}
