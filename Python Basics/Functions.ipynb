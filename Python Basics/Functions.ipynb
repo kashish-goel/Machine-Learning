{
 "cells": [
  {
   "cell_type": "code",
   "execution_count": 1,
   "metadata": {},
   "outputs": [],
   "source": [
    "def fun(f):\n",
    "    r=1\n",
    "    for i in range(1,f+1):\n",
    "        r=r*i\n",
    "    return r"
   ]
  },
  {
   "cell_type": "code",
   "execution_count": 2,
   "metadata": {},
   "outputs": [
    {
     "name": "stdout",
     "output_type": "stream",
     "text": [
      "120\n"
     ]
    }
   ],
   "source": [
    "print(fun(5))"
   ]
  },
  {
   "cell_type": "code",
   "execution_count": 3,
   "metadata": {},
   "outputs": [],
   "source": [
    "def rfun(f):\n",
    "    if f==0:\n",
    "        return 1\n",
    "    else:\n",
    "        return(f*rfun(f-1))"
   ]
  },
  {
   "cell_type": "code",
   "execution_count": 4,
   "metadata": {},
   "outputs": [
    {
     "name": "stdout",
     "output_type": "stream",
     "text": [
      "120\n"
     ]
    }
   ],
   "source": [
    "print(rfun(5))"
   ]
  },
  {
   "cell_type": "code",
   "execution_count": 9,
   "metadata": {},
   "outputs": [],
   "source": [
    "def fab(a,b,n):\n",
    "    for i in range(n):\n",
    "        c=a+b\n",
    "        print(a,end=\" \")\n",
    "        a=b\n",
    "        b=c"
   ]
  },
  {
   "cell_type": "code",
   "execution_count": 10,
   "metadata": {},
   "outputs": [
    {
     "name": "stdout",
     "output_type": "stream",
     "text": [
      "0 1 1 2 3 5 8 13 21 34 "
     ]
    }
   ],
   "source": [
    "fab(0,1,10)"
   ]
  },
  {
   "cell_type": "code",
   "execution_count": 11,
   "metadata": {},
   "outputs": [],
   "source": [
    "def rfab(a,b,n):\n",
    "    if n>0:\n",
    "        print(a, end=\" \")\n",
    "        rfab(b,a+b,n-1)"
   ]
  },
  {
   "cell_type": "code",
   "execution_count": 12,
   "metadata": {},
   "outputs": [
    {
     "name": "stdout",
     "output_type": "stream",
     "text": [
      "0 1 1 2 3 5 8 13 21 34 "
     ]
    }
   ],
   "source": [
    "rfab(0,1,10)"
   ]
  },
  {
   "cell_type": "markdown",
   "metadata": {},
   "source": [
    "# Lab 5\n",
    "1. Write a function in python to find max of three numbers\n",
    "2. Write a function in python to sum all the numbers in a list\n",
    "3. Write a function in python to multiply all the numbrers in a list\n",
    "4. Write a function in python to reverse a string\n",
    "5. Write a function in python that takes a list and returns a new list with unique elements of the first list\n",
    "6. Write a function in python that checks whether a passed string is palindrome or not\n",
    "7. Write a function in python to access a function inside a function\n",
    "8. Write a function in python to generate even series upto the nth term\n",
    "9. Write a function in python to check if a number is prime or not\n",
    "10. Write a function in python to generate prime series between range inputted by a user.\n",
    "11. Write a recursive function in python to sum all the numbers in a list\n",
    "12. Write a recursive function in python to multiply all the numbrers in a list\n",
    "13. Write a recursive function in python to reverse a string\n",
    "14. Write a recursive function in python that takes a list and returns a new list with unique elements of the first list\n",
    "15. Write a recursive function in python that checks whether a passed string is palindrome or not\n",
    "16. Write a recursive function in python to generate even series upto the nth term\n",
    "17. Write a recursive function in python to check if a number is prime or not\n",
    "18. Write a recursive function in python to generate prime series between range inputted by a user."
   ]
  },
  {
   "cell_type": "code",
   "execution_count": 4,
   "metadata": {},
   "outputs": [],
   "source": [
    "#1\n",
    "def max(a,b,c):\n",
    "    m = a if (a if a > b else b)>c else c \n",
    "    print(m)"
   ]
  },
  {
   "cell_type": "code",
   "execution_count": 5,
   "metadata": {},
   "outputs": [
    {
     "name": "stdout",
     "output_type": "stream",
     "text": [
      "3\n"
     ]
    }
   ],
   "source": [
    "max(1,2,3)"
   ]
  },
  {
   "cell_type": "code",
   "execution_count": 13,
   "metadata": {},
   "outputs": [],
   "source": [
    "#2\n",
    "def sum(l):\n",
    "    s = 0\n",
    "    for i in range(len(l)):\n",
    "        s+= int(l[i])\n",
    "    print(s)"
   ]
  },
  {
   "cell_type": "code",
   "execution_count": 14,
   "metadata": {},
   "outputs": [
    {
     "name": "stdout",
     "output_type": "stream",
     "text": [
      "Enter list012\n",
      "3\n"
     ]
    }
   ],
   "source": [
    "l = list(input(\"Enter list\"))\n",
    "sum(l)"
   ]
  },
  {
   "cell_type": "code",
   "execution_count": 20,
   "metadata": {},
   "outputs": [],
   "source": [
    "#3\n",
    "def mul(l):\n",
    "    m= 1\n",
    "    for i in range(len(l)):\n",
    "        m= m*int(l[i])\n",
    "    print(m)"
   ]
  },
  {
   "cell_type": "code",
   "execution_count": 21,
   "metadata": {},
   "outputs": [
    {
     "name": "stdout",
     "output_type": "stream",
     "text": [
      "Enter list213\n",
      "6\n"
     ]
    }
   ],
   "source": [
    "l = list(input(\"Enter list\"))\n",
    "mul(l)"
   ]
  },
  {
   "cell_type": "code",
   "execution_count": 22,
   "metadata": {},
   "outputs": [],
   "source": [
    "#4\n",
    "def rev(s):\n",
    "    r = s[::-1]\n",
    "    print(r)"
   ]
  },
  {
   "cell_type": "code",
   "execution_count": 23,
   "metadata": {},
   "outputs": [
    {
     "name": "stdout",
     "output_type": "stream",
     "text": [
      "hsihsaK\n"
     ]
    }
   ],
   "source": [
    "rev(\"Kashish\")"
   ]
  },
  {
   "cell_type": "code",
   "execution_count": null,
   "metadata": {},
   "outputs": [],
   "source": [
    "#5                         (INCOMPLETE)\n",
    "def unique(l):\n",
    "    for i in range(len(l)):\n",
    "        switch(l[i]):\n",
    "            case \"#\":\n",
    "            case \"$\":\n",
    "            case \"&\":\n",
    "            case \"@\":\n",
    "                list.append(l[i])\n",
    "            \n",
    "l = list(input(\"Enter a list\"))\n"
   ]
  },
  {
   "cell_type": "code",
   "execution_count": 3,
   "metadata": {},
   "outputs": [],
   "source": [
    "#6\n",
    "def palin(str):\n",
    "    ss= str[::-1]                 #to reverse the string\n",
    "    print(str)\n",
    "    print(ss)\n",
    "    if(str == ss):\n",
    "        print(\"palindrome\")\n",
    "    else:\n",
    "        print('Not palindrome')"
   ]
  },
  {
   "cell_type": "code",
   "execution_count": 4,
   "metadata": {},
   "outputs": [
    {
     "name": "stdout",
     "output_type": "stream",
     "text": [
      "Enter a stringkashish\n",
      "kashish\n",
      "hsihsak\n",
      "Not palindrome\n"
     ]
    }
   ],
   "source": [
    "str = input(\"Enter a string\")\n",
    "palin(str)"
   ]
  },
  {
   "cell_type": "code",
   "execution_count": 5,
   "metadata": {},
   "outputs": [
    {
     "name": "stdout",
     "output_type": "stream",
     "text": [
      "First Function\n",
      "Second Function\n"
     ]
    }
   ],
   "source": [
    "#7\n",
    "def fun1():\n",
    "    print(\"First Function\")\n",
    "    fun2()\n",
    "def fun2():\n",
    "    print(\"Second Function\")\n",
    "fun1()"
   ]
  },
  {
   "cell_type": "code",
   "execution_count": 8,
   "metadata": {},
   "outputs": [
    {
     "name": "stdout",
     "output_type": "stream",
     "text": [
      "0 2 4 6 "
     ]
    }
   ],
   "source": [
    "#8\n",
    "def even_s(n):\n",
    "    for i in range(n):\n",
    "        if(i%2 == 0):\n",
    "            print(i, end=\" \")\n",
    "even_s(8)"
   ]
  },
  {
   "cell_type": "code",
   "execution_count": 9,
   "metadata": {},
   "outputs": [
    {
     "name": "stdout",
     "output_type": "stream",
     "text": [
      "Enter number45\n",
      "Not a prime number\n"
     ]
    }
   ],
   "source": [
    "#9\n",
    "def prime(n):\n",
    "    c=0\n",
    "    for i in range(1,n):\n",
    "        if n%i == 0:\n",
    "            c+=1\n",
    "    if c == 1:\n",
    "        print(\"Prime number\")\n",
    "    else:\n",
    "        print(\"Not a prime number\")\n",
    "    \n",
    "n = int(input(\"Enter number\"))\n",
    "prime(n)"
   ]
  },
  {
   "cell_type": "code",
   "execution_count": 13,
   "metadata": {},
   "outputs": [
    {
     "name": "stdout",
     "output_type": "stream",
     "text": [
      "2 3 "
     ]
    }
   ],
   "source": [
    "#10\n",
    "def prime_s(n):\n",
    "    for j in range(n):\n",
    "        c = 0\n",
    "        for i in range(1,j):\n",
    "            if j%i == 0:\n",
    "                c+=1\n",
    "        if c == 1:\n",
    "            print(j, end=\" \")\n",
    "prime_s(5)"
   ]
  },
  {
   "cell_type": "code",
   "execution_count": 33,
   "metadata": {},
   "outputs": [
    {
     "name": "stdout",
     "output_type": "stream",
     "text": [
      "Enter list12\n"
     ]
    },
    {
     "data": {
      "text/plain": [
       "3"
      ]
     },
     "execution_count": 33,
     "metadata": {},
     "output_type": "execute_result"
    }
   ],
   "source": [
    "#11\n",
    "def sum_no(n,l):\n",
    "    if n == 0:\n",
    "        return int(l[n])\n",
    "    else:\n",
    "        return(int(l[n])+sum_no(n-1,l))\n",
    "l = list(input(\"Enter list\"))\n",
    "sum_no((len(l)-1),l)"
   ]
  },
  {
   "cell_type": "code",
   "execution_count": 26,
   "metadata": {},
   "outputs": [
    {
     "name": "stdout",
     "output_type": "stream",
     "text": [
      "Enter list12\n"
     ]
    },
    {
     "data": {
      "text/plain": [
       "2"
      ]
     },
     "execution_count": 26,
     "metadata": {},
     "output_type": "execute_result"
    }
   ],
   "source": [
    "#12\n",
    "def mul_no(n,l):\n",
    "    if n == 0:\n",
    "        return int(l[n])\n",
    "    else:\n",
    "        return(int(l[n])*mul_no(n-1,l))\n",
    "l = list(input(\"Enter list\"))\n",
    "mul_no((len(l)-1),l)"
   ]
  },
  {
   "cell_type": "code",
   "execution_count": 1,
   "metadata": {},
   "outputs": [
    {
     "name": "stdout",
     "output_type": "stream",
     "text": [
      "dlrowolleh\n"
     ]
    }
   ],
   "source": [
    "#13\n",
    "def revstr(str,n):\n",
    "    if n==0:\n",
    "        return str[0]\n",
    "    return str[n]+revstr(str,n-1)\n",
    "\n",
    "print(revstr(\"helloworld\",9))"
   ]
  },
  {
   "cell_type": "code",
   "execution_count": 6,
   "metadata": {},
   "outputs": [
    {
     "name": "stdout",
     "output_type": "stream",
     "text": [
      "Enter size : 2\n",
      "Enter the element :1\n",
      "Enter the element :2\n",
      "[1, 2]\n",
      "[]\n"
     ]
    }
   ],
   "source": [
    "#14\n",
    "def unique(list1,list2,n,i):\n",
    "    if i in list1:\n",
    "        list2.append(list1[i])\n",
    "        unique(list1,list2,n,i+1)\n",
    "    return list2\n",
    "\n",
    "\n",
    "list1=[]\n",
    "n=int(input(\"Enter size : \"))\n",
    "for i in range(n):\n",
    "    a=int(input(\"Enter the element :\"))\n",
    "    list1.append(a)\n",
    "print(list1)\n",
    "list2=[]\n",
    "list2=unique(list1,list2,n-1,0)\n",
    "print(list2)"
   ]
  },
  {
   "cell_type": "code",
   "execution_count": 9,
   "metadata": {},
   "outputs": [
    {
     "name": "stdout",
     "output_type": "stream",
     "text": [
      "No\n"
     ]
    }
   ],
   "source": [
    "#15\n",
    "def isPal(st, s, e) : \n",
    "    if (s == e): \n",
    "        return True\n",
    "    if (st[s] != st[e]) : \n",
    "        return False\n",
    "    if (s < e + 1) : \n",
    "        return isPalRec(st, s + 1, e - 1); \n",
    "  \n",
    "    return True\n",
    "  \n",
    "def isPalindrome(st) : \n",
    "    n = len(st) \n",
    "    if (n == 0) : \n",
    "        return True\n",
    "      \n",
    "    return isPal(st, 0, n - 1); \n",
    "  \n",
    "st = \"kashish\"\n",
    "if (isPalindrome(st)) : \n",
    "    print(\"Yes\")\n",
    "else : \n",
    "    print(\"No\")"
   ]
  },
  {
   "cell_type": "code",
   "execution_count": 10,
   "metadata": {},
   "outputs": [
    {
     "name": "stdout",
     "output_type": "stream",
     "text": [
      "Enter a number8\n",
      "0\n",
      "2\n",
      "4\n",
      "6\n",
      "8\n"
     ]
    }
   ],
   "source": [
    "#16\n",
    "def rec_even(s,n):\n",
    "    if s>=n\n",
    "        if(n%2 == 0):\n",
    "            print(n)\n",
    "    elif(s%2 == 0):\n",
    "            print(s)\n",
    "            return rec_even(s+2,n)\n",
    "num = int(input(\"Enter a number\"))\n",
    "rec_even(0,num)"
   ]
  },
  {
   "cell_type": "code",
   "execution_count": 11,
   "metadata": {},
   "outputs": [
    {
     "name": "stdout",
     "output_type": "stream",
     "text": [
      "Enter a number45\n",
      "False\n"
     ]
    }
   ],
   "source": [
    "#17\n",
    "def rec_prime(n,i):\n",
    "        if n<=2:\n",
    "            if n==2:\n",
    "                return True\n",
    "        return False\n",
    "        if n%i==0:\n",
    "            return False\n",
    "        if(i*i>n):\n",
    "            return True\n",
    "        return re_cprime(n,i+1)\n",
    "num=int(input(\"Enter a number\"))\n",
    "print(rec_prime(num,2))"
   ]
  },
  {
   "cell_type": "code",
   "execution_count": 18,
   "metadata": {},
   "outputs": [
    {
     "name": "stdout",
     "output_type": "stream",
     "text": [
      "Enter a number7\n"
     ]
    }
   ],
   "source": [
    "#18\n",
    "def prime(n):\n",
    "    for j in range(n):\n",
    "        c = 0\n",
    "        for i in range(1,j):\n",
    "            if j%i == 0:\n",
    "                c+=1\n",
    "        if c == 1:\n",
    "            return True\n",
    "        else:\n",
    "            return False\n",
    "def rec_prime(s,num):\n",
    "    if s>=num:\n",
    "        t=prime(s)\n",
    "        if t==True:\n",
    "            print(s)\n",
    "    else:\n",
    "        t=prime(s)\n",
    "        if t==True:\n",
    "            print(s)\n",
    "        return rec_prime(s+1,num)\n",
    "num = int(input(\"Enter a number\"))\n",
    "rec_prime(0,num)"
   ]
  },
  {
   "cell_type": "code",
   "execution_count": null,
   "metadata": {},
   "outputs": [],
   "source": []
  }
 ],
 "metadata": {
  "kernelspec": {
   "display_name": "Python 3",
   "language": "python",
   "name": "python3"
  },
  "language_info": {
   "codemirror_mode": {
    "name": "ipython",
    "version": 3
   },
   "file_extension": ".py",
   "mimetype": "text/x-python",
   "name": "python",
   "nbconvert_exporter": "python",
   "pygments_lexer": "ipython3",
   "version": "3.8.5"
  }
 },
 "nbformat": 4,
 "nbformat_minor": 2
}
