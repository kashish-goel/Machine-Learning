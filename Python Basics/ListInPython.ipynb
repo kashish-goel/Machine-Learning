{
 "cells": [
  {
   "cell_type": "code",
   "execution_count": 1,
   "metadata": {},
   "outputs": [
    {
     "name": "stdout",
     "output_type": "stream",
     "text": [
      "[]\n"
     ]
    }
   ],
   "source": [
    "l = [] #empty list\n",
    "print (l)"
   ]
  },
  {
   "cell_type": "code",
   "execution_count": 2,
   "metadata": {},
   "outputs": [
    {
     "name": "stdout",
     "output_type": "stream",
     "text": [
      "[1, 2, 3]\n"
     ]
    }
   ],
   "source": [
    "l = [1,2,3] #list of integers\n",
    "print (l)"
   ]
  },
  {
   "cell_type": "code",
   "execution_count": 3,
   "metadata": {},
   "outputs": [
    {
     "name": "stdout",
     "output_type": "stream",
     "text": [
      "[1, 2, 3, 4.5, 5.1]\n"
     ]
    }
   ],
   "source": [
    "l = [1,2,3, 4.5, 5.1] #list of numbers\n",
    "print (l)"
   ]
  },
  {
   "cell_type": "code",
   "execution_count": 4,
   "metadata": {},
   "outputs": [
    {
     "name": "stdout",
     "output_type": "stream",
     "text": [
      "['a', 'b', 'c']\n"
     ]
    }
   ],
   "source": [
    "l = [\"a\",\"b\",'c'] #list of characters\n",
    "print (l)"
   ]
  },
  {
   "cell_type": "code",
   "execution_count": 5,
   "metadata": {},
   "outputs": [
    {
     "name": "stdout",
     "output_type": "stream",
     "text": [
      "[1, 2, 4.5, 'abs']\n"
     ]
    }
   ],
   "source": [
    "l = [1,2,4.5,'abs'] #mixed list\n",
    "print (l)"
   ]
  },
  {
   "cell_type": "code",
   "execution_count": 6,
   "metadata": {},
   "outputs": [
    {
     "name": "stdout",
     "output_type": "stream",
     "text": [
      "['abc', 'pqr', 'xyz']\n"
     ]
    }
   ],
   "source": [
    "l = ['abc','pqr','xyz'] #list of strings\n",
    "print (l)"
   ]
  },
  {
   "cell_type": "code",
   "execution_count": 7,
   "metadata": {},
   "outputs": [
    {
     "name": "stdout",
     "output_type": "stream",
     "text": [
      "['h', 'e', 'l', 'l', 'o']\n"
     ]
    }
   ],
   "source": [
    "l=list('hello')\n",
    "print(l)"
   ]
  },
  {
   "cell_type": "code",
   "execution_count": 8,
   "metadata": {},
   "outputs": [
    {
     "name": "stdout",
     "output_type": "stream",
     "text": [
      "['a', 'b', 'c', 'd', 'e']\n"
     ]
    }
   ],
   "source": [
    "s=('a','b','c','d','e')       #tupple\n",
    "l=list(s)\n",
    "print(l)"
   ]
  },
  {
   "cell_type": "code",
   "execution_count": 9,
   "metadata": {},
   "outputs": [
    {
     "name": "stdout",
     "output_type": "stream",
     "text": [
      "Enter a list64065576434437120\n",
      "['6', '4', '0', '6', '5', '5', '7', '6', '4', '3', '4', '4', '3', '7', '1', '2', '0']\n"
     ]
    }
   ],
   "source": [
    "l=list(input(\"Enter a list\"))\n",
    "print(l)"
   ]
  },
  {
   "cell_type": "code",
   "execution_count": 10,
   "metadata": {},
   "outputs": [
    {
     "name": "stdout",
     "output_type": "stream",
     "text": [
      "[1, [2, 3], [4, 5], [6, 7, 8]]\n"
     ]
    }
   ],
   "source": [
    "l=[1,[2,3],[4,5],[6,7,8]] #Nested List\n",
    "print(l)"
   ]
  },
  {
   "cell_type": "code",
   "execution_count": 11,
   "metadata": {},
   "outputs": [
    {
     "data": {
      "text/plain": [
       "4"
      ]
     },
     "execution_count": 11,
     "metadata": {},
     "output_type": "execute_result"
    }
   ],
   "source": [
    "len(l) #length of a list"
   ]
  },
  {
   "cell_type": "code",
   "execution_count": 12,
   "metadata": {},
   "outputs": [
    {
     "data": {
      "text/plain": [
       "[6, 7, 8]"
      ]
     },
     "execution_count": 12,
     "metadata": {},
     "output_type": "execute_result"
    }
   ],
   "source": [
    "l[3]  #indexing"
   ]
  },
  {
   "cell_type": "code",
   "execution_count": 13,
   "metadata": {},
   "outputs": [
    {
     "data": {
      "text/plain": [
       "[[4, 5], [6, 7, 8]]"
      ]
     },
     "execution_count": 13,
     "metadata": {},
     "output_type": "execute_result"
    }
   ],
   "source": [
    "l[2:4] #slicing"
   ]
  },
  {
   "cell_type": "code",
   "execution_count": 14,
   "metadata": {},
   "outputs": [
    {
     "data": {
      "text/plain": [
       "False"
      ]
     },
     "execution_count": 14,
     "metadata": {},
     "output_type": "execute_result"
    }
   ],
   "source": [
    "[1,2,3] > [8,9,1]"
   ]
  },
  {
   "cell_type": "code",
   "execution_count": 15,
   "metadata": {},
   "outputs": [
    {
     "data": {
      "text/plain": [
       "True"
      ]
     },
     "execution_count": 15,
     "metadata": {},
     "output_type": "execute_result"
    }
   ],
   "source": [
    "[1,2,3] < [8,9,1]"
   ]
  },
  {
   "cell_type": "code",
   "execution_count": 16,
   "metadata": {},
   "outputs": [
    {
     "name": "stdout",
     "output_type": "stream",
     "text": [
      "[1, 2, 5, 4, 3]\n"
     ]
    }
   ],
   "source": [
    "l1=[1,2]\n",
    "l2=[5,4,3]\n",
    "l = l1+l2\n",
    "print(l)"
   ]
  },
  {
   "cell_type": "code",
   "execution_count": 17,
   "metadata": {},
   "outputs": [
    {
     "data": {
      "text/plain": [
       "[1, 2, 5, 4, 3, 1, 2, 5, 4, 3, 1, 2, 5, 4, 3]"
      ]
     },
     "execution_count": 17,
     "metadata": {},
     "output_type": "execute_result"
    }
   ],
   "source": [
    "l*3"
   ]
  },
  {
   "cell_type": "code",
   "execution_count": 18,
   "metadata": {},
   "outputs": [
    {
     "name": "stdout",
     "output_type": "stream",
     "text": [
      "[5, 3, 2, 4]\n"
     ]
    }
   ],
   "source": [
    "l=l*3\n",
    "seq = l[2:10:2] #L[start:end:step]\n",
    "print(seq)"
   ]
  },
  {
   "cell_type": "code",
   "execution_count": 19,
   "metadata": {},
   "outputs": [
    {
     "data": {
      "text/plain": [
       "[1, 4, 2, 3, 5]"
      ]
     },
     "execution_count": 19,
     "metadata": {},
     "output_type": "execute_result"
    }
   ],
   "source": [
    "l[::3]"
   ]
  },
  {
   "cell_type": "code",
   "execution_count": 20,
   "metadata": {},
   "outputs": [
    {
     "name": "stdout",
     "output_type": "stream",
     "text": [
      "['one', 'two', 5, 4, 3, 1, 2, 5, 4, 3, 1, 2, 5, 4, 3]\n"
     ]
    }
   ],
   "source": [
    "l[0:2] = ['one','two']\n",
    "print(l)"
   ]
  },
  {
   "cell_type": "code",
   "execution_count": 21,
   "metadata": {},
   "outputs": [
    {
     "name": "stdout",
     "output_type": "stream",
     "text": [
      "['one', 'two', 5, 4, 3, 1, 2, 5, 4, 3, 1, 2, 5, 4, 3, 'new item']\n"
     ]
    }
   ],
   "source": [
    "l.append('new item') #add an element\n",
    "print(l)"
   ]
  },
  {
   "cell_type": "code",
   "execution_count": 22,
   "metadata": {},
   "outputs": [
    {
     "name": "stdout",
     "output_type": "stream",
     "text": [
      "['one', 'two', 5, 'updated item', 3, 1, 2, 5, 4, 3, 1, 2, 5, 4, 3, 'new item']\n"
     ]
    }
   ],
   "source": [
    "l[3] = 'updated item' #replace an element\n",
    "print(l)"
   ]
  },
  {
   "cell_type": "code",
   "execution_count": 23,
   "metadata": {},
   "outputs": [
    {
     "name": "stdout",
     "output_type": "stream",
     "text": [
      "['one', 'two', 5, 'updated item', 3, 1, 2, 5, 4, 3, 2, 5, 4, 3, 'new item']\n"
     ]
    }
   ],
   "source": [
    "del l[10]  #delete an item\n",
    "print(l)"
   ]
  },
  {
   "cell_type": "code",
   "execution_count": 24,
   "metadata": {},
   "outputs": [
    {
     "name": "stdout",
     "output_type": "stream",
     "text": [
      "['one', 5, 'updated item', 3, 1, 2, 5, 4, 3, 2, 5, 4, 3, 'new item']\n"
     ]
    }
   ],
   "source": [
    "del l[1]  #delete an item\n",
    "print(l)"
   ]
  },
  {
   "cell_type": "code",
   "execution_count": 25,
   "metadata": {},
   "outputs": [
    {
     "name": "stdout",
     "output_type": "stream",
     "text": [
      "['one', 5, 'updated item', 3, 1, 'item 1', 'item2', 4, 3, 2, 5, 4, 3, 'new item']\n"
     ]
    }
   ],
   "source": [
    "l[5] = \"item 1\"\n",
    "l[6] = \"item2\"\n",
    "print(l)"
   ]
  },
  {
   "cell_type": "code",
   "execution_count": 26,
   "metadata": {},
   "outputs": [
    {
     "name": "stdout",
     "output_type": "stream",
     "text": [
      "['one', 5, 'updated item', 3, 1, 4, 3, 2, 5, 4, 3, 'new item']\n"
     ]
    }
   ],
   "source": [
    "del l[5:7]  #delete a slice\n",
    "print(l)"
   ]
  },
  {
   "cell_type": "code",
   "execution_count": 27,
   "metadata": {},
   "outputs": [
    {
     "name": "stdout",
     "output_type": "stream",
     "text": [
      "['one', 5, 'updated item', 3, 1, 4, 3, 2, 5, 4, 3]\n"
     ]
    }
   ],
   "source": [
    "l.pop() #remove last element of the list\n",
    "print(l)"
   ]
  },
  {
   "cell_type": "code",
   "execution_count": 28,
   "metadata": {},
   "outputs": [
    {
     "name": "stdout",
     "output_type": "stream",
     "text": [
      "['one', 5, 3, 1, 4, 3, 2, 5, 4, 3]\n"
     ]
    }
   ],
   "source": [
    "l.pop(2) #removes an element at a position\n",
    "print(l)"
   ]
  },
  {
   "cell_type": "code",
   "execution_count": 29,
   "metadata": {},
   "outputs": [
    {
     "data": {
      "text/plain": [
       "1"
      ]
     },
     "execution_count": 29,
     "metadata": {},
     "output_type": "execute_result"
    }
   ],
   "source": [
    "l.index(5) #prints an element at position x"
   ]
  },
  {
   "cell_type": "code",
   "execution_count": 30,
   "metadata": {},
   "outputs": [
    {
     "name": "stdout",
     "output_type": "stream",
     "text": [
      "['one', 5, 3, 1, 4, 3, 2, 5, 4, 3, 'a', 'b', 'Banasthali', 1, 2, 3]\n"
     ]
    }
   ],
   "source": [
    "t=['a','b','Banasthali',1,2,3]\n",
    "l.extend(t)\n",
    "print(l)"
   ]
  },
  {
   "cell_type": "code",
   "execution_count": 31,
   "metadata": {},
   "outputs": [
    {
     "name": "stdout",
     "output_type": "stream",
     "text": [
      "['one', 5, 3, 1, 'Hello', 4, 3, 2, 5, 4, 3, 'a', 'b', 'Banasthali', 1, 2, 3]\n"
     ]
    }
   ],
   "source": [
    "l.insert(4,\"Hello\")\n",
    "print(l)"
   ]
  },
  {
   "cell_type": "code",
   "execution_count": 32,
   "metadata": {},
   "outputs": [
    {
     "name": "stdout",
     "output_type": "stream",
     "text": [
      "['one', 5, 3, 'Hello', 4, 3, 2, 5, 4, 3, 'a', 'b', 'Banasthali', 1, 2, 3]\n"
     ]
    }
   ],
   "source": [
    "l.remove(1)\n",
    "print(l)"
   ]
  },
  {
   "cell_type": "code",
   "execution_count": 33,
   "metadata": {},
   "outputs": [
    {
     "data": {
      "text/plain": [
       "1"
      ]
     },
     "execution_count": 33,
     "metadata": {},
     "output_type": "execute_result"
    }
   ],
   "source": [
    "l.count(1)"
   ]
  },
  {
   "cell_type": "code",
   "execution_count": 34,
   "metadata": {},
   "outputs": [
    {
     "name": "stdout",
     "output_type": "stream",
     "text": [
      "[3, 2, 1, 'Banasthali', 'b', 'a', 3, 4, 5, 2, 3, 4, 'Hello', 3, 5, 'one']\n"
     ]
    }
   ],
   "source": [
    "l.reverse()\n",
    "print(l)"
   ]
  },
  {
   "cell_type": "code",
   "execution_count": 35,
   "metadata": {},
   "outputs": [
    {
     "name": "stdout",
     "output_type": "stream",
     "text": [
      "['a', 'b', 'e', 'i', 'p', 'q', 'q']\n"
     ]
    }
   ],
   "source": [
    "l1=['e','i','q','a','q','p','b']\n",
    "l1.sort()\n",
    "print(l1)"
   ]
  },
  {
   "cell_type": "code",
   "execution_count": 36,
   "metadata": {},
   "outputs": [
    {
     "name": "stdout",
     "output_type": "stream",
     "text": [
      "[]\n"
     ]
    }
   ],
   "source": [
    "l.clear()\n",
    "print(l)"
   ]
  },
  {
   "cell_type": "markdown",
   "metadata": {},
   "source": [
    "# Creating a Matrix"
   ]
  },
  {
   "cell_type": "code",
   "execution_count": 37,
   "metadata": {},
   "outputs": [
    {
     "name": "stdout",
     "output_type": "stream",
     "text": [
      "Enter the number of rows:3\n",
      "Enter the number of columns:3\n",
      "Enter the entries rowwise:\n",
      "123\n",
      "234\n",
      "345\n",
      "456\n",
      "677\n",
      "8976\n",
      "789\n",
      "9\n",
      "8\n",
      "123 234 345 \n",
      "456 677 8976 \n",
      "789 9 8 \n"
     ]
    }
   ],
   "source": [
    "R = int(input(\"Enter the number of rows:\")) \n",
    "C = int(input(\"Enter the number of columns:\")) \n",
    "  \n",
    "# Initialize matrix \n",
    "matrix = [] \n",
    "print(\"Enter the entries rowwise:\") \n",
    "  \n",
    "# For user input \n",
    "for i in range(R):          # A for loop for row entries \n",
    "    a =[] \n",
    "    for j in range(C):      # A for loop for column entries \n",
    "         a.append(int(input())) \n",
    "    matrix.append(a) \n",
    "  \n",
    "# For printing the matrix \n",
    "for i in range(R): \n",
    "    for j in range(C): \n",
    "        print(matrix[i][j], end = \" \") \n",
    "    print() "
   ]
  },
  {
   "cell_type": "markdown",
   "metadata": {},
   "source": [
    "# Lab 4\n",
    "1. WAP to find minimum element from a list of integers alongwith its index in the list\n",
    "2. WAP to calcualte mean of a given list of numbers\n",
    "3. WAP to search an element in a list\n",
    "4. WAP to count the frequency of an element in a list\n",
    "5. WAP to find frequencies of all elements in a list\n",
    "6. WAP to extact two slices from a list and add the slices and find which one is greater\n",
    "7. WAP to find second largest number of a list\n",
    "8. WAP to input a list of numbers and shift all zeros to the right and all non zeros to left of the list\n",
    "9. WAP to add two matrices\n",
    "10. WAP to multiply two matrices\n",
    "11. WAP to print transpose of a matrix\n",
    "12. WAP to add elements of diagonal of a matrix\n",
    "13. WAP to find an element in a matrix\n",
    "14. WAP to find inverse of a matrix"
   ]
  },
  {
   "cell_type": "code",
   "execution_count": 38,
   "metadata": {},
   "outputs": [
    {
     "name": "stdout",
     "output_type": "stream",
     "text": [
      "Enter list253784\n",
      "2\n",
      "0\n"
     ]
    }
   ],
   "source": [
    "#1\n",
    "l = list(input(\"Enter list\"))\n",
    "min = l[0]\n",
    "for i in range(len(l)-1):\n",
    "    if(l[i+1]<min):\n",
    "        min=l[i+1]\n",
    "print(min)\n",
    "print(l.index(min))"
   ]
  },
  {
   "cell_type": "code",
   "execution_count": 39,
   "metadata": {},
   "outputs": [
    {
     "name": "stdout",
     "output_type": "stream",
     "text": [
      "Enter list43628\n",
      "4.6\n"
     ]
    }
   ],
   "source": [
    "#2\n",
    "l = list(input(\"Enter list\"))\n",
    "sum = 0\n",
    "sum = int(sum)\n",
    "for i in range(len(l)):\n",
    "    sum+= int(l[i])\n",
    "mean = float(sum/len(l))\n",
    "print(mean)"
   ]
  },
  {
   "cell_type": "code",
   "execution_count": 40,
   "metadata": {},
   "outputs": [
    {
     "name": "stdout",
     "output_type": "stream",
     "text": [
      "Enter list2674394\n",
      "Enter element3\n"
     ]
    },
    {
     "data": {
      "text/plain": [
       "4"
      ]
     },
     "execution_count": 40,
     "metadata": {},
     "output_type": "execute_result"
    }
   ],
   "source": [
    "#3\n",
    "l = list(input(\"Enter list\"))\n",
    "ele = input(\"Enter element\")\n",
    "l.index(ele)"
   ]
  },
  {
   "cell_type": "code",
   "execution_count": 41,
   "metadata": {},
   "outputs": [
    {
     "name": "stdout",
     "output_type": "stream",
     "text": [
      "Enter list34489\n",
      "3 1\n",
      "4 2\n",
      "8 1\n",
      "9 1\n"
     ]
    }
   ],
   "source": [
    "#5\n",
    "l = list(input(\"Enter list\"))\n",
    "lst = []\n",
    "for i in range(len(l)):\n",
    "    if(lst.count(l[i]) == 0):\n",
    "        print(l[i],l.count(l[i]))\n",
    "        lst.append(l[i])"
   ]
  },
  {
   "cell_type": "code",
   "execution_count": 42,
   "metadata": {},
   "outputs": [
    {
     "name": "stdout",
     "output_type": "stream",
     "text": [
      "Enter list234567\n",
      "['6', '7']\n"
     ]
    }
   ],
   "source": [
    "#6\n",
    "l = list(input(\"Enter list\"))\n",
    "lenght = int(len(l)/2)\n",
    "l1 = l[0:lenght]\n",
    "l2 = l[(lenght+1):int(len(l))]\n",
    "if(l1>l2):\n",
    "    print(l1)\n",
    "else:\n",
    "    print(l2)"
   ]
  },
  {
   "cell_type": "code",
   "execution_count": 43,
   "metadata": {},
   "outputs": [
    {
     "name": "stdout",
     "output_type": "stream",
     "text": [
      "Enter list25378\n",
      "3\n",
      "2\n"
     ]
    }
   ],
   "source": [
    "#7\n",
    "l = list(input(\"Enter list\"))\n",
    "min = l[0]\n",
    "min2 = l[1]\n",
    "for i in range(2,len(l)):\n",
    "    if(l[i]<min2):\n",
    "        if(l[i]<min):\n",
    "            min=l[i]\n",
    "            min2=min\n",
    "        else:\n",
    "            min2=l[i]\n",
    "print(min2)\n",
    "print(l.index(min2))"
   ]
  },
  {
   "cell_type": "code",
   "execution_count": 44,
   "metadata": {},
   "outputs": [
    {
     "name": "stdout",
     "output_type": "stream",
     "text": [
      "Enter list0032\n",
      "['0', '0', '3', '2']\n"
     ]
    }
   ],
   "source": [
    "#8\n",
    "l = list(input(\"Enter list\"))\n",
    "i = 0\n",
    "j = len(l)-1\n",
    "while(i<j):\n",
    "    if(l[i]==0):\n",
    "        if(l[j]==0):\n",
    "            j-=1\n",
    "        if(i!=j):\n",
    "            t=l[i]\n",
    "            l[i]=l[j]\n",
    "            l[j]=t\n",
    "    i+=1\n",
    "print(l)"
   ]
  },
  {
   "cell_type": "code",
   "execution_count": null,
   "metadata": {},
   "outputs": [],
   "source": [
    "#9     # Error\n",
    "R = int(input(\"Enter the number of rows:\")) \n",
    "C = int(input(\"Enter the number of columns:\")) \n",
    "matrix1 = [] \n",
    "print(\"Enter the entries rowwise:\")\n",
    "for i in range(R):          \n",
    "    a =[] \n",
    "    for j in range(C):       \n",
    "         a.append(int(input())) \n",
    "    matrix1.append(a) \n",
    "matrix2 = [] \n",
    "print(\"Enter the entries rowwise:\") \n",
    "for i in range(R):          \n",
    "    a =[] \n",
    "    for j in range(C):       \n",
    "         a.append(int(input())) \n",
    "    matrix2.append(a)\n",
    "print(matrix1)\n",
    "#adding two matrices\n",
    "res = []\n",
    "for i in range(len(matrix1)):\n",
    "    for j in range(C):\n",
    "        res[i][j] = matrix1[i][j]+matrix2[i][j]\n",
    "        print(res[i][j])\n",
    "# For printing the matrix \n",
    "for i in range(R): \n",
    "    for j in range(C): \n",
    "        print(res[i][j], end = \" \") \n",
    "    print() "
   ]
  },
  {
   "cell_type": "code",
   "execution_count": null,
   "metadata": {},
   "outputs": [],
   "source": [
    "#9\n",
    "mat1=[]\n",
    "mat2=[]\n",
    "r=int(input(\"Enter no. of rows : \"))\n",
    "c=int(input(\"Enter no. of columns : \"))\n",
    "print(\"Enter matrix 1 :\")\n",
    "for i in range(r):\n",
    "    a=[]\n",
    "    for j in range(c):\n",
    "        ele=int(input())\n",
    "        a.append(ele)\n",
    "    mat1.append(a)\n",
    "print(\"Enter matrix 2 :\")\n",
    "for i in range(r):\n",
    "    a=[]\n",
    "    for j in range(c):\n",
    "        ele=int(input())\n",
    "        a.append(ele)\n",
    "    mat2.append(a)\n",
    "res=[]\n",
    "for i in range(len(mat1)):\n",
    "     for j in range(len(mat1[0])):\n",
    "        res[i][j]=mat1[i][j]+mat2[i][j]\n",
    "print(\"Added Matrix is : \")\n",
    "for r in res :\n",
    "    print(r)"
   ]
  },
  {
   "cell_type": "code",
   "execution_count": null,
   "metadata": {},
   "outputs": [],
   "source": [
    "#10\n",
    "mat1=[[2,3],[1,4]]\n",
    "mat2=[[1,2],[3,4]]\n",
    "res=[[0,0],[0,0]]\n",
    "for i in range(len(mat1)):\n",
    "    for j in range(len(mat2[0])):\n",
    "        for k in range(len(mat2)):\n",
    "            res[i][j]+=mat1[i][k]*mat2[k][j]\n",
    "\n",
    "print(\"Result Array : \")\n",
    "for r in res:\n",
    "    print(r)"
   ]
  },
  {
   "cell_type": "code",
   "execution_count": null,
   "metadata": {},
   "outputs": [],
   "source": [
    "#11\n",
    "mat=[]\n",
    "r=int(input(\"Enter no. of rows : \"))\n",
    "c=int(input(\"Enter no. of columns : \"))\n",
    "print(\"Enter matrix :\")\n",
    "for i in range(r):\n",
    "    a=[]\n",
    "    for j in range(c):\n",
    "        ele=int(input())\n",
    "        a.append(ele)\n",
    "    mat.append(a)\n",
    "trans=[]\n",
    "for j in range(c):\n",
    "    trans.append([])\n",
    "    for i in range(r):\n",
    "        t=mat[i][j]\n",
    "        trans[j].append(t)\n",
    "print(\"Transposed Matirx : \")\n",
    "for r in trans:\n",
    "    print(r)"
   ]
  },
  {
   "cell_type": "code",
   "execution_count": null,
   "metadata": {},
   "outputs": [],
   "source": [
    "#12\n",
    "mat=[]\n",
    "r=int(input(\"Enter no. of rows : \"))\n",
    "c=int(input(\"Enter no. of columns : \"))\n",
    "print(\"Enter matrix :\")\n",
    "for i in range(r):\n",
    "    a=[]\n",
    "    for j in range(c):\n",
    "        ele=int(input())\n",
    "        a.append(ele)\n",
    "    mat.append(a)\n",
    "sum=0\n",
    "for i in range(r):\n",
    "    for j in range(c):\n",
    "        if i==j:\n",
    "            sum+=mat[i][j]\n",
    "            break\n",
    "print(\"Sum is : \"+str(sum))"
   ]
  },
  {
   "cell_type": "code",
   "execution_count": null,
   "metadata": {},
   "outputs": [],
   "source": [
    "#13\n",
    "mat=[]\n",
    "r=int(input(\"Enter no. of rows : \"))\n",
    "c=int(input(\"Enter no. of columns : \"))\n",
    "print(\"Enter matrix :\")\n",
    "for i in range(r):\n",
    "    a=[]\n",
    "    for j in range(c):\n",
    "        ele=int(input())\n",
    "        a.append(ele)\n",
    "    mat.append(a)\n",
    "elem=int(input(\"Enter Element to be searched : \"))\n",
    "ind_r=0\n",
    "ind_c=0\n",
    "flag=0\n",
    "for i in range(r):\n",
    "    for j in range(c):\n",
    "        if mat[i][j]==elem :\n",
    "            ind_r=i\n",
    "            ind_c=j\n",
    "            flag=1\n",
    "            break\n",
    "if flag==1:\n",
    "    print(\"Element found at row : \"+str(ind_r)+\" column : \"+str(ind_c))\n",
    "else:\n",
    "    print(\"Element not found.\")"
   ]
  },
  {
   "cell_type": "code",
   "execution_count": null,
   "metadata": {},
   "outputs": [],
   "source": [
    "#14\n",
    "mat=[]\n",
    "r=int(input(\"Enter no. of rows : \"))\n",
    "c=int(input(\"Enter no. of columns : \"))\n",
    "print(\"Enter matrix :\")\n",
    "for i in range(r):\n",
    "    a=[]\n",
    "    for j in range(c):\n",
    "        ele=int(input())\n",
    "        a.append(ele)\n",
    "    mat.append(a)\n"
   ]
  }
 ],
 "metadata": {
  "kernelspec": {
   "display_name": "Python 3",
   "language": "python",
   "name": "python3"
  },
  "language_info": {
   "codemirror_mode": {
    "name": "ipython",
    "version": 3
   },
   "file_extension": ".py",
   "mimetype": "text/x-python",
   "name": "python",
   "nbconvert_exporter": "python",
   "pygments_lexer": "ipython3",
   "version": "3.8.5"
  }
 },
 "nbformat": 4,
 "nbformat_minor": 2
}
