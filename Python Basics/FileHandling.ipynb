{
 "cells": [
  {
   "cell_type": "code",
   "execution_count": 4,
   "metadata": {},
   "outputs": [
    {
     "data": {
      "text/plain": [
       "35"
      ]
     },
     "execution_count": 4,
     "metadata": {},
     "output_type": "execute_result"
    }
   ],
   "source": [
    "f = open(\"Hello.txt\",\"w\")  #Open a file in a write mode\n",
    "f.write(\"This is my first line of the file\\n\")\n",
    "f.write(\"This is the second line of the file\")"
   ]
  },
  {
   "cell_type": "code",
   "execution_count": 5,
   "metadata": {},
   "outputs": [],
   "source": [
    "f.close()"
   ]
  },
  {
   "cell_type": "code",
   "execution_count": 8,
   "metadata": {},
   "outputs": [
    {
     "name": "stdout",
     "output_type": "stream",
     "text": [
      "This is my first line of the file\n",
      "\n",
      "This is the second line of the file\n"
     ]
    }
   ],
   "source": [
    "f = open(\"Hello.txt\",\"r\")  #Open a file in a read mode\n",
    "for line in f:\n",
    "    print(line)\n",
    "f.close()"
   ]
  },
  {
   "cell_type": "code",
   "execution_count": 14,
   "metadata": {},
   "outputs": [
    {
     "name": "stdout",
     "output_type": "stream",
     "text": [
      "T\n",
      "h\n",
      "i\n",
      "s\n",
      " \n",
      "i\n",
      "s\n",
      " \n",
      "m\n",
      "y\n",
      " \n",
      "f\n",
      "i\n",
      "r\n",
      "s\n",
      "t\n",
      " \n",
      "l\n",
      "i\n",
      "n\n",
      "e\n",
      " \n",
      "o\n",
      "f\n",
      " \n",
      "t\n",
      "h\n",
      "e\n",
      " \n",
      "f\n",
      "i\n",
      "l\n",
      "e\n",
      "\n",
      "\n",
      "T\n",
      "h\n",
      "i\n",
      "s\n",
      " \n",
      "i\n",
      "s\n",
      " \n",
      "t\n",
      "h\n",
      "e\n",
      " \n",
      "s\n",
      "e\n",
      "c\n",
      "o\n",
      "n\n",
      "d\n",
      " \n",
      "l\n",
      "i\n",
      "n\n",
      "e\n",
      " \n",
      "o\n",
      "f\n",
      " \n",
      "t\n",
      "h\n",
      "e\n",
      " \n",
      "f\n",
      "i\n",
      "l\n",
      "e\n"
     ]
    }
   ],
   "source": [
    "f = open(\"Hello.txt\",\"r\")\n",
    "fo = f.read()    #Reads the entire file in one go\n",
    "for i in fo:\n",
    "    print(i)\n",
    "f.close()"
   ]
  },
  {
   "cell_type": "code",
   "execution_count": 13,
   "metadata": {},
   "outputs": [
    {
     "name": "stdout",
     "output_type": "stream",
     "text": [
      "This is my first line of the file\n",
      "\n"
     ]
    }
   ],
   "source": [
    "f = open(\"Hello.txt\",\"r\")\n",
    "print(f.readline())    #Reads the one line at a time\n",
    "f.close()"
   ]
  },
  {
   "cell_type": "code",
   "execution_count": 9,
   "metadata": {},
   "outputs": [
    {
     "name": "stdout",
     "output_type": "stream",
     "text": [
      "\n",
      "\n",
      "T\n",
      "h\n",
      "i\n",
      "s\n",
      " \n",
      "i\n",
      "s\n",
      " \n",
      "a\n",
      " \n",
      "t\n",
      "e\n",
      "x\n",
      "t\n",
      " \n",
      "w\n",
      "r\n",
      "i\n",
      "t\n",
      "t\n",
      "e\n",
      "n\n",
      " \n",
      "b\n",
      "y\n",
      " \n",
      "a\n",
      "p\n",
      "p\n",
      "e\n",
      "n\n",
      "d\n",
      "\n",
      "\n",
      "\n",
      "\n",
      "T\n",
      "h\n",
      "i\n",
      "s\n",
      " \n",
      "i\n",
      "s\n",
      " \n",
      "a\n",
      " \n",
      "t\n",
      "e\n",
      "x\n",
      "t\n",
      " \n",
      "w\n",
      "r\n",
      "i\n",
      "t\n",
      "t\n",
      "e\n",
      "n\n",
      " \n",
      "b\n",
      "y\n",
      " \n",
      "r\n",
      "e\n",
      "a\n",
      "d\n",
      "+\n",
      "w\n",
      "r\n",
      "i\n",
      "t\n",
      "e\n",
      "\n",
      "\n",
      "\n",
      "\n",
      "T\n",
      "h\n",
      "i\n",
      "s\n",
      " \n",
      "i\n",
      "s\n",
      " \n",
      "a\n",
      " \n",
      "t\n",
      "e\n",
      "x\n",
      "t\n",
      " \n",
      "w\n",
      "r\n",
      "i\n",
      "t\n",
      "t\n",
      "e\n",
      "n\n",
      " \n",
      "b\n",
      "y\n",
      " \n",
      "a\n",
      "p\n",
      "p\n",
      "e\n",
      "n\n",
      "d\n",
      "\n",
      "\n",
      "\n",
      "\n",
      "T\n",
      "h\n",
      "i\n",
      "s\n",
      " \n",
      "i\n",
      "s\n",
      " \n",
      "a\n",
      " \n",
      "t\n",
      "e\n",
      "x\n",
      "t\n",
      " \n",
      "w\n",
      "r\n",
      "i\n",
      "t\n",
      "t\n",
      "e\n",
      "n\n",
      " \n",
      "b\n",
      "y\n",
      " \n",
      "r\n",
      "e\n",
      "a\n",
      "d\n",
      "+\n",
      "w\n",
      "r\n",
      "i\n",
      "t\n",
      "e\n",
      "\n",
      "\n",
      "T\n",
      "h\n",
      "i\n",
      "s\n",
      " \n",
      "i\n",
      "s\n",
      " \n",
      "a\n",
      " \n",
      "t\n",
      "e\n",
      "x\n",
      "t\n",
      " \n",
      "w\n",
      "r\n",
      "i\n",
      "t\n",
      "t\n",
      "e\n",
      "n\n",
      " \n",
      "b\n",
      "y\n",
      " \n",
      "a\n",
      "p\n",
      "p\n",
      "e\n",
      "n\n",
      "d\n",
      "\n",
      "\n",
      "T\n",
      "h\n",
      "i\n",
      "s\n",
      " \n",
      "i\n",
      "s\n",
      " \n",
      "a\n",
      " \n",
      "t\n",
      "e\n",
      "x\n",
      "t\n",
      " \n",
      "w\n",
      "r\n",
      "i\n",
      "t\n",
      "t\n",
      "e\n",
      "n\n",
      " \n",
      "b\n",
      "y\n",
      " \n",
      "a\n",
      "p\n",
      "p\n",
      "e\n",
      "n\n",
      "d\n",
      "\n",
      "\n",
      "\n",
      "\n",
      "T\n",
      "h\n",
      "i\n",
      "s\n",
      " \n",
      "i\n",
      "s\n",
      " \n",
      "a\n",
      " \n",
      "t\n",
      "e\n",
      "x\n",
      "t\n",
      " \n",
      "w\n",
      "r\n",
      "i\n",
      "t\n",
      "t\n",
      "e\n",
      "n\n",
      " \n",
      "b\n",
      "y\n",
      " \n",
      "r\n",
      "e\n",
      "a\n",
      "d\n",
      "+\n",
      "w\n",
      "r\n",
      "i\n",
      "t\n",
      "e\n",
      "\n",
      "\n"
     ]
    }
   ],
   "source": [
    "f = open(\"Hello.txt\",\"r\")\n",
    "for i in f.read():\n",
    "    print(i)\n",
    "f.close()"
   ]
  },
  {
   "cell_type": "code",
   "execution_count": 10,
   "metadata": {},
   "outputs": [],
   "source": [
    "f = open(\"Hello.txt\",\"a\")   #Open a file in a append mode\n",
    "f.write(\"This is a text written by append\")\n",
    "f.close()"
   ]
  },
  {
   "cell_type": "code",
   "execution_count": 11,
   "metadata": {},
   "outputs": [],
   "source": [
    "f = open(\"Hello.txt\",\"a\")\n",
    "f.write(\"\\nThis is a text written by append\\n\")\n",
    "f.close()"
   ]
  },
  {
   "cell_type": "code",
   "execution_count": 14,
   "metadata": {},
   "outputs": [
    {
     "name": "stdout",
     "output_type": "stream",
     "text": [
      "\n",
      "\n"
     ]
    }
   ],
   "source": [
    "f = open(\"Hello.txt\",\"r+\")   #Open a file in a read/write mode\n",
    "print(f.readline())\n",
    "f.write(\"\\nThis is a text written by read+write\\n\")\n",
    "f.close()"
   ]
  },
  {
   "cell_type": "markdown",
   "metadata": {},
   "source": [
    "# Lab 6\n",
    "1. WAP to read a file and print the number of characters, words and lines it has\n",
    "2. WAP to copy contents of one file into another file\n",
    "3. WAP to read a file and count the number of vowels it has\n",
    "4. WAP to read a file and count the number of articles it has\n",
    "5. WAP to read a file reverse the contents of file (last line of the file should become the first line of the file)"
   ]
  },
  {
   "cell_type": "code",
   "execution_count": 5,
   "metadata": {},
   "outputs": [],
   "source": [
    "f = open(r'D:\\Kashish Goel\\Sample.txt')"
   ]
  },
  {
   "cell_type": "code",
   "execution_count": 6,
   "metadata": {},
   "outputs": [
    {
     "name": "stdout",
     "output_type": "stream",
     "text": [
      "This is a New Sample file generated for File Handling in Pyhton.\n",
      "Kashish Goel\n",
      "Btech CSE III Year\n",
      "\n"
     ]
    }
   ],
   "source": [
    "print(f.read())"
   ]
  },
  {
   "cell_type": "code",
   "execution_count": 7,
   "metadata": {},
   "outputs": [
    {
     "name": "stdout",
     "output_type": "stream",
     "text": [
      "This is a New Sample file generated for File Handling in Pyhton.\n",
      "\n",
      "Kashish Goel\n",
      "\n",
      "Btech CSE III Year\n",
      "\n"
     ]
    }
   ],
   "source": [
    "f = open(r'D:\\Kashish Goel\\Sample.txt')\n",
    "words=0\n",
    "lines =0;\n",
    "for line in f:\n",
    "    print(line)\n",
    "f.close()"
   ]
  },
  {
   "cell_type": "code",
   "execution_count": 8,
   "metadata": {},
   "outputs": [
    {
     "name": "stdout",
     "output_type": "stream",
     "text": [
      "3\n"
     ]
    }
   ],
   "source": [
    "f = open(r'D:\\Kashish Goel\\Sample.txt')# no of lines\n",
    "words=0\n",
    "lines =0;\n",
    "for line in f:\n",
    "    lines=lines+1\n",
    "print(lines)\n",
    "f.close()"
   ]
  },
  {
   "cell_type": "code",
   "execution_count": 9,
   "metadata": {},
   "outputs": [
    {
     "name": "stdout",
     "output_type": "stream",
     "text": [
      "3\n",
      "18\n",
      "97\n"
     ]
    }
   ],
   "source": [
    "#1\n",
    "f = open(r'D:\\Kashish Goel\\Sample.txt')# no of lines\n",
    "words=0\n",
    "lines =0    \n",
    "for line in f:\n",
    "    lines=lines+1\n",
    "    word = line.split()\n",
    "    words= words + len(word)\n",
    "print(lines)\n",
    "print(words)\n",
    "f.seek(0) \n",
    "fo = f.read() # read  file in one go  \n",
    "print(len(fo))\n",
    "f.close()"
   ]
  },
  {
   "cell_type": "code",
   "execution_count": 10,
   "metadata": {},
   "outputs": [
    {
     "name": "stdout",
     "output_type": "stream",
     "text": [
      "This is a New Sample file generated for File Handling in Pyhton.\n",
      "Kashish Goel\n",
      "Btech CSE III Year\n",
      "\n"
     ]
    }
   ],
   "source": [
    "#2\n",
    "\n",
    "f=open(r'D:\\Kashish Goel\\Sample.txt')\n",
    "f1 = open(\"Copy.txt\", \"w+\") \n",
    "for line in f:\n",
    "    f1.write(line)\n",
    "\n",
    "f1.seek(0)\n",
    "print(f1.read())\n",
    "f.close()\n",
    "f1.close()"
   ]
  },
  {
   "cell_type": "code",
   "execution_count": 11,
   "metadata": {},
   "outputs": [
    {
     "name": "stdout",
     "output_type": "stream",
     "text": [
      "30\n"
     ]
    }
   ],
   "source": [
    "#3\n",
    "\n",
    "f=open(r'D:\\Kashish Goel\\Sample.txt')\n",
    "fo=f.read()\n",
    "vowels=0\n",
    "for i in fo:\n",
    "    if i in ('a','e','i','o','u','A','E','I','O','U'):\n",
    "        vowels=vowels+1\n",
    "print(vowels)"
   ]
  },
  {
   "cell_type": "code",
   "execution_count": 12,
   "metadata": {},
   "outputs": [
    {
     "name": "stdout",
     "output_type": "stream",
     "text": [
      "1\n"
     ]
    }
   ],
   "source": [
    "#4\n",
    "\n",
    "f=open(r'D:\\Kashish Goel\\Sample.txt')\n",
    "articles=0\n",
    "for line in f:\n",
    "    sentence=line.split()\n",
    "    for word in sentence:\n",
    "        if word in ('a','an','the','A','An','The'):\n",
    "            articles+=1\n",
    "print(articles)"
   ]
  },
  {
   "cell_type": "code",
   "execution_count": 13,
   "metadata": {},
   "outputs": [
    {
     "name": "stdout",
     "output_type": "stream",
     "text": [
      "Btech CSE III Year\n",
      "Kashish Goel\n",
      "This is a New Sample file generated for File Handling in Pyhton.\n",
      "\n"
     ]
    }
   ],
   "source": [
    "#5\n",
    "    \n",
    "f=open(r'D:\\Kashish Goel\\Sample.txt')\n",
    "list=[]\n",
    "for line in f:\n",
    "    list.append(line)\n",
    "f.close()\n",
    "f=open(r'D:\\Kashish Goel\\Sample.txt',\"w+\")\n",
    "for i in range(len(list)-1,-1,-1):\n",
    "    f.write(list[i])\n",
    "f.seek(0)\n",
    "print(f.read())\n",
    "f.close()"
   ]
  }
 ],
 "metadata": {
  "kernelspec": {
   "display_name": "Python 3",
   "language": "python",
   "name": "python3"
  },
  "language_info": {
   "codemirror_mode": {
    "name": "ipython",
    "version": 3
   },
   "file_extension": ".py",
   "mimetype": "text/x-python",
   "name": "python",
   "nbconvert_exporter": "python",
   "pygments_lexer": "ipython3",
   "version": "3.8.5"
  }
 },
 "nbformat": 4,
 "nbformat_minor": 4
}
