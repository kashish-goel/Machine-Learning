{
 "cells": [
  {
   "cell_type": "code",
   "execution_count": 6,
   "metadata": {},
   "outputs": [
    {
     "name": "stdout",
     "output_type": "stream",
     "text": [
      "5\n",
      "8\n",
      "11\n",
      "14\n"
     ]
    }
   ],
   "source": [
    "for i in range(5,15,3):\n",
    "    print(i) "
   ]
  },
  {
   "cell_type": "code",
   "execution_count": 8,
   "metadata": {},
   "outputs": [
    {
     "name": "stdout",
     "output_type": "stream",
     "text": [
      "10\n",
      "6\n",
      "2\n"
     ]
    }
   ],
   "source": [
    "i=10\n",
    "while i>0:\n",
    "    print(i)\n",
    "    i-=4"
   ]
  },
  {
   "cell_type": "code",
   "execution_count": 5,
   "metadata": {},
   "outputs": [
    {
     "name": "stdout",
     "output_type": "stream",
     "text": [
      "0 0\n",
      "0 1\n",
      "1 0\n",
      "1 1\n",
      "2 0\n",
      "2 1\n",
      "3 0\n",
      "3 1\n"
     ]
    }
   ],
   "source": [
    "i=0\n",
    "while i<4:\n",
    "    j=0\n",
    "    while j<2:\n",
    "        print(i,j)\n",
    "        j+=1\n",
    "    i+=1"
   ]
  },
  {
   "cell_type": "markdown",
   "metadata": {},
   "source": [
    "# Exercise 2\n",
    "1. WAP to generate even numbers till the nth number\n",
    "2. WAP to check if a number is prime or not\n",
    "3. WAP to generate a fabonicaii series upto nth term\n",
    "4. WAP to find sum of n natural numbers\n",
    "5. WAP to generate sereis 2, 5, 10, 17 .... nth\n",
    "6. WAP to generate prime series between 1 and 100\n",
    "7. WAP to check if a number is armstrong number or not\n",
    "8. WAP to check if a number is a perfect square or not\n",
    "9. WAP to check if a number is digit palindrome or not\n",
    "10. WAP to find factorial of a given number\n",
    "11. WAP to check if a year is a leap year or not\n",
    "12. WAP to print pascal's triangle\n",
    "13. WAP to sum the series 4/3 + 9/4 + 16/5 + 25/6 + ....... nth term\n",
    "14. WAP to find HCM of two numbers\n",
    "15. WAP to calcualte roots of the quadratic equation\n",
    "16. WAP to generate armstrong numbers between 1 and 500\n",
    "17. WAP to generate perfect squares between 1 and 500\n",
    "18. WAP to sum the series 4/2! +9/3! + 16/4! + ..... nth term"
   ]
  },
  {
   "cell_type": "code",
   "execution_count": 7,
   "metadata": {},
   "outputs": [
    {
     "name": "stdout",
     "output_type": "stream",
     "text": [
      "10\n",
      "6\n",
      "2\n"
     ]
    }
   ],
   "source": [
    "for i in range(10,1,-4):\n",
    "    print(i)\n"
   ]
  },
  {
   "cell_type": "code",
   "execution_count": 2,
   "metadata": {},
   "outputs": [
    {
     "name": "stdout",
     "output_type": "stream",
     "text": [
      "Enter number4\n",
      "0\n",
      "2\n"
     ]
    }
   ],
   "source": [
    "# Exercise 2 prg Even numbers till n\n",
    "n = int(input(\"Enter number\"))\n",
    "for i in range(0,n,2):\n",
    "    print(i)"
   ]
  },
  {
   "cell_type": "code",
   "execution_count": 7,
   "metadata": {},
   "outputs": [
    {
     "name": "stdout",
     "output_type": "stream",
     "text": [
      "Enter number4\n",
      "Not a prime number\n"
     ]
    }
   ],
   "source": [
    "# Exercise 2 prg Prime or not\n",
    "n = int(input(\"Enter number\"))\n",
    "c=0\n",
    "for i in range(1,n):\n",
    "    if n%i == 0:\n",
    "        c+=1\n",
    "if c == 1:\n",
    "    print(\"Prime number\")\n",
    "else:\n",
    "    print(\"Not a prime number\")"
   ]
  },
  {
   "cell_type": "code",
   "execution_count": 8,
   "metadata": {},
   "outputs": [
    {
     "name": "stdout",
     "output_type": "stream",
     "text": [
      "Enter a number5\n",
      "0\n",
      "1\n",
      "1\n",
      "2\n",
      "3\n",
      "5\n",
      "8\n"
     ]
    }
   ],
   "source": [
    "# Exercise 2 prg fibonocci\n",
    "n = int(input(\"Enter a number\"))\n",
    "a = 0\n",
    "b = 1\n",
    "print(a)\n",
    "print(b)\n",
    "for i in range(0,n):\n",
    "    c = a+b\n",
    "    a = b\n",
    "    b = c\n",
    "    print(b)"
   ]
  },
  {
   "cell_type": "code",
   "execution_count": 10,
   "metadata": {},
   "outputs": [
    {
     "name": "stdout",
     "output_type": "stream",
     "text": [
      "Enter number4\n",
      "6\n"
     ]
    }
   ],
   "source": [
    "# Exercise 2 prg sum of natural numbers\n",
    "n = int(input(\"Enter number\"))\n",
    "s = 0\n",
    "for i in range(0,n):\n",
    "    s = s+i\n",
    "print(s)"
   ]
  },
  {
   "cell_type": "code",
   "execution_count": 13,
   "metadata": {},
   "outputs": [
    {
     "name": "stdout",
     "output_type": "stream",
     "text": [
      "Enter a number45\n",
      "2\n",
      "5\n",
      "10\n",
      "17\n",
      "26\n",
      "37\n"
     ]
    }
   ],
   "source": [
    "# Exercise 2 prg series 2,5,10,17...\n",
    "n = int(input(\"Enter a number\"))\n",
    "i=2\n",
    "c=3\n",
    "while i<n:\n",
    "    print(i)\n",
    "    i = i+c\n",
    "    c = c+2"
   ]
  },
  {
   "cell_type": "code",
   "execution_count": 15,
   "metadata": {},
   "outputs": [
    {
     "name": "stdout",
     "output_type": "stream",
     "text": [
      "2\n",
      "3\n"
     ]
    }
   ],
   "source": [
    "# Exercise 2 prg prime series till 100\n",
    "for i in range(1,100):\n",
    "    c = 0\n",
    "    for j in range(1,i):\n",
    "        if n%j == 0:\n",
    "            c+=1\n",
    "    if c == 1:\n",
    "        print(i)"
   ]
  },
  {
   "cell_type": "code",
   "execution_count": 3,
   "metadata": {},
   "outputs": [
    {
     "name": "stdout",
     "output_type": "stream",
     "text": [
      "Enter the limit4\n",
      "8.5\n"
     ]
    }
   ],
   "source": [
    "# Exercise 2 prg 18 series\n",
    "n= int(input(\"Enter the limit\"))\n",
    "f=1\n",
    "sum=0\n",
    "for i in range(2,n):\n",
    "    for j in range(1,i):\n",
    "        f=f*j\n",
    "    sum= sum+((i*i)/f)\n",
    "print(sum)"
   ]
  },
  {
   "cell_type": "code",
   "execution_count": null,
   "metadata": {},
   "outputs": [],
   "source": []
  }
 ],
 "metadata": {
  "kernelspec": {
   "display_name": "Python 3",
   "language": "python",
   "name": "python3"
  },
  "language_info": {
   "codemirror_mode": {
    "name": "ipython",
    "version": 3
   },
   "file_extension": ".py",
   "mimetype": "text/x-python",
   "name": "python",
   "nbconvert_exporter": "python",
   "pygments_lexer": "ipython3",
   "version": "3.8.5"
  }
 },
 "nbformat": 4,
 "nbformat_minor": 4
}
