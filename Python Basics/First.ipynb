{
 "cells": [
  {
   "cell_type": "code",
   "execution_count": 3,
   "metadata": {},
   "outputs": [
    {
     "name": "stdout",
     "output_type": "stream",
     "text": [
      "9\n",
      "-1\n",
      "20\n",
      "8.6\n",
      "3\n",
      "8\n"
     ]
    }
   ],
   "source": [
    "print(4+5)\n",
    "print(4-5)\n",
    "print(4*5)\n",
    "print(43/5)\n",
    "print(43%5)\n",
    "print(43//5)"
   ]
  },
  {
   "cell_type": "code",
   "execution_count": 8,
   "metadata": {},
   "outputs": [
    {
     "name": "stdout",
     "output_type": "stream",
     "text": [
      "Not eligible to vote\n"
     ]
    }
   ],
   "source": [
    "age = 10\n",
    "if age >=18:\n",
    "    print(\"Eligible to vote\")\n",
    "else:\n",
    "    print(\"Not eligible to vote\")"
   ]
  },
  {
   "cell_type": "markdown",
   "metadata": {},
   "source": [
    "# Check\n",
    "    0-3 - Toddler\n",
    "    Above 3 - 12 - Kid\n",
    "    Above 12 - 19 - Teen\n",
    "    Above 19 - 30 - Young Adults\n",
    "    Above 30 - 50 - Adults\n",
    "    Above 50 - 60 - Mature\n",
    "    Above 60 - 80 - Senior Citizens\n",
    "    Above 80 - Super Senior Citizens"
   ]
  },
  {
   "cell_type": "code",
   "execution_count": 14,
   "metadata": {},
   "outputs": [
    {
     "name": "stdout",
     "output_type": "stream",
     "text": [
      "Enter age 45\n",
      "<class 'int'>\n",
      "Adult\n"
     ]
    }
   ],
   "source": [
    "age = input(\"Enter age \")\n",
    "age = int(age)\n",
    "print(type(age))\n",
    "if age <=3:\n",
    "    print(\"Toddler\")\n",
    "elif age > 3 and age <= 12:\n",
    "    print(\"Kid\")\n",
    "elif age > 12 and age <= 19:\n",
    "    print(\"Teen\")\n",
    "elif age > 19 and age <= 30:\n",
    "    print(\"Young Adult\")\n",
    "elif age > 30 and age < 50:\n",
    "    print(\"Adult\")\n",
    "elif age >= 50 and age < 60:\n",
    "    print(\"mature\")\n",
    "elif age >= 60 and age < 80:\n",
    "    print(\"Senior Citizens\")\n",
    "else:\n",
    "    print(\"Super Senior Citizens\")"
   ]
  },
  {
   "cell_type": "markdown",
   "metadata": {},
   "source": [
    "# Exercise 1\n",
    "    1. WAP to check is a number is dibvisible by 5\n",
    "    2. WAP to check is a number is even or odd\n",
    "    3. WAP to check if roots of a quatratic equation are real, real and equal or imaginary\n",
    "    4. WAP to print grade of a student \n",
    "        Less than 40 - NC\n",
    "        40 - Less than 50 - D\n",
    "        50 - Less than 60 - C\n",
    "        60 - Less than 70 - B\n",
    "        70 - Less than 80 - A\n",
    "        80 and Above - O\n",
    "    5. WAP print the Electricity Bill\n",
    "        Upto 200 - 0.5/unit\n",
    "        201 - 500 - 1/unit for units consumed above 200\n",
    "        501 - 1000 - 2.5/unit for units consumed above 500\n",
    "        1001 - 1500 - 3.5/unit for units consumed above 1000\n",
    "        1501 - 200 - 1/unit for units consumed above 200"
   ]
  }
 ],
 "metadata": {
  "kernelspec": {
   "display_name": "Python 3",
   "language": "python",
   "name": "python3"
  },
  "language_info": {
   "codemirror_mode": {
    "name": "ipython",
    "version": 3
   },
   "file_extension": ".py",
   "mimetype": "text/x-python",
   "name": "python",
   "nbconvert_exporter": "python",
   "pygments_lexer": "ipython3",
   "version": "3.8.5"
  }
 },
 "nbformat": 4,
 "nbformat_minor": 4
}
