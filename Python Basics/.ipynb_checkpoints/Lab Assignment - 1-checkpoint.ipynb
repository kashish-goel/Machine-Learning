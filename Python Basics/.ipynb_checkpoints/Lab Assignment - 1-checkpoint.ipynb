{
 "cells": [
  {
   "cell_type": "markdown",
   "metadata": {},
   "source": [
    "# Exercise 1\n",
    "    1.Wap to check is a number is divisible by 5\n",
    "    2.Wap to check if no. is even or odd\n",
    "    3.WAP to check if roots of a quadratic equation are real,real and equal or immaginary\n",
    "    4.WAP to print grades of a student\n",
    "        Less than 40 - NC\n",
    "        40 - Less than 50 - D\n",
    "        50 - Less than 60 - C\n",
    "        60 - Less than 70 - B\n",
    "        70 - Less than 80 - A\n",
    "        80 and Above - O\n",
    "    5.WAP print the Electricity Bill\n",
    "        Upto 200 - 0.5/unit\n",
    "        201 - 500 - 1/unit for units consumed above 200\n",
    "        501 - 1000 - 2.5/unit \" \" 500\n",
    "        10001 - 1500 - 3.5/unit\n",
    "        1501 - 2500 - 5/unit\n",
    "        Above 2500 - 10/unit"
   ]
  },
  {
   "cell_type": "code",
   "execution_count": 1,
   "metadata": {},
   "outputs": [
    {
     "name": "stdout",
     "output_type": "stream",
     "text": [
      "Enter a number40\n",
      "40\n",
      "Number is divisible by 5\n"
     ]
    }
   ],
   "source": [
    "# Exercise ! prg 1\n",
    "n = input(\"Enter a number\")\n",
    "n = int(n)\n",
    "print(n)\n",
    "if n%5 == 0:\n",
    "    print(\"Number is divisible by 5\")\n",
    "else:\n",
    "    print(\"Not divisible by 5\")"
   ]
  },
  {
   "cell_type": "code",
   "execution_count": 2,
   "metadata": {},
   "outputs": [
    {
     "name": "stdout",
     "output_type": "stream",
     "text": [
      "Enter a number3\n",
      "3\n",
      "Number is Odd\n"
     ]
    }
   ],
   "source": [
    "# Exercise 1 prg 2\n",
    "n = input(\"Enter a number\")\n",
    "n = int(n)\n",
    "print(n)\n",
    "if n%2 == 0:\n",
    "    print(\"Number is Even\")\n",
    "else:\n",
    "    print(\"Number is Odd\")"
   ]
  },
  {
   "cell_type": "code",
   "execution_count": 3,
   "metadata": {},
   "outputs": [
    {
     "name": "stdout",
     "output_type": "stream",
     "text": [
      "1\n",
      "1\n",
      "1\n",
      "-3\n",
      "Roots are Imaginary\n"
     ]
    }
   ],
   "source": [
    "# Exercise 1 prg 3\n",
    "a = int(input())\n",
    "b = int(input())\n",
    "c = int(input())\n",
    "d = (b*b)-(4*a*c)\n",
    "d = int(d)\n",
    "print(d)\n",
    "if d > 0:\n",
    "    print(\"Roots are Real\")\n",
    "elif d == 0:\n",
    "    print(\"Roots are real and equal\")\n",
    "else:\n",
    "    print(\"Roots are Imaginary\")"
   ]
  },
  {
   "cell_type": "code",
   "execution_count": 5,
   "metadata": {},
   "outputs": [
    {
     "name": "stdout",
     "output_type": "stream",
     "text": [
      "Enter marks 50\n"
     ]
    }
   ],
   "source": [
    "# Exercise 1 prg 4\n",
    "# WAP to print grades of a student\n",
    "#        Less than 40 - NC\n",
    "#        40 - Less than 50 - D\n",
    "#        50 - Less than 60 - C\n",
    "#        60 - Less than 70 - B\n",
    "#        70 - Less than 80 - A\n",
    "#        80 and Above - O\n",
    "marks = int(input(\"Enter marks\"))  # By default any variable as String \n",
    "if marks < 40:\n",
    "    print (\"NC\")\n",
    "elif marks > 40 and marks < 50:\n",
    "    print(\"Grade D\")\n",
    "elif marks > 50 and marks < 60:\n",
    "    print(\"Grade C\")\n",
    "elif marks > 60 and marks < 70:\n",
    "    print(\"Grade B\")\n",
    "elif marks > 70 and marks < 80:\n",
    "    print(\"Grade A\")\n",
    "elif marks > 80:\n",
    "    print(\"Grade O\")"
   ]
  },
  {
   "cell_type": "code",
   "execution_count": 6,
   "metadata": {},
   "outputs": [
    {
     "name": "stdout",
     "output_type": "stream",
     "text": [
      "Enter units550\n",
      "725.0\n"
     ]
    }
   ],
   "source": [
    "# Exercise 1 prg 5\n",
    "# WAP print the Electricity Bill\n",
    "#        Upto 200 - 0.5/unit\n",
    "#        201 - 500 - 1/unit for units consumed above 200\n",
    "#        501 - 1000 - 2.5/unit \" \" 500\n",
    "#        10001 - 1500 - 3.5/unit\n",
    "#        1501 - 2500 - 5/unit\n",
    "#        Above 2500 - 10/unit\n",
    "unit = int(input(\"Enter units\"))  # By default any variable as String \n",
    "if unit <= 200:\n",
    "    bill = (0.5*unit)\n",
    "elif unit > 200 and unit <= 500:\n",
    "    bill = (0.5*200) + ((unit-200)*1)\n",
    "elif unit > 500 and unit <= 1000:\n",
    "    bill = (0.5*200) + (500*1) + ((unit-500)*2.5)\n",
    "elif unit > 1000 and unit <= 1500:\n",
    "    bill = (0.5*200) + (500*1) + (1000*2.5) + ((unit-1000)*3.5)\n",
    "elif unit > 1500 and unit <= 2500:\n",
    "    bill = (0.5*200) + (500*1) + (1000*2.5) + (1500*3.5) + ((unit-1500)*5)\n",
    "elif unit > 2500:\n",
    "    bill = (0.5*200) + (500*1) + (1000*2.5) + (1500*3.5) + (2500*5) + ((unit-2500)*10)\n",
    "bill = float(bill)\n",
    "print(bill)"
   ]
  },
  {
   "cell_type": "markdown",
   "metadata": {},
   "source": [
    "# Lab 3\n",
    "1. WAP to check if a string is Palindrome or not\n",
    "2. WAP that takes string as multiple words and then capitalize the first letter of each word and forms a new string\n",
    "3. WAP to read a string and display the longest substring of the given string having just the consonants\n",
    "4. WAP to read a string and then prints a sting that capitalizes every other letter in the string e.g. goel becomes gOeL\n",
    "5. WAP to read an email id of a person and vertify if it belongs to banasthali.in domain\n",
    "6. WAP to count the number of vowels and consonants in an input string\n",
    "7. WAP to read a sentnece and count the articles it has\n",
    "8. WAP to check if a sentence is a paniltimate or not\n",
    "9. WAP to read a string and check if it has \"good\" in it"
   ]
  },
  {
   "cell_type": "code",
   "execution_count": 8,
   "metadata": {},
   "outputs": [
    {
     "name": "stdout",
     "output_type": "stream",
     "text": [
      "Enter a stringKash\n",
      "Kash\n",
      "hsaK\n",
      "Not palindrome\n"
     ]
    }
   ],
   "source": [
    "# Exercise 3 prg 1\n",
    "str = input(\"Enter a string\")\n",
    "ss= str[::-1]                 #to reverse the string\n",
    "print(str)\n",
    "print(ss)\n",
    "if(str == ss):\n",
    "    print(\"palindrome\")\n",
    "else:\n",
    "    print('Not palindrome')"
   ]
  },
  {
   "cell_type": "code",
   "execution_count": 9,
   "metadata": {},
   "outputs": [
    {
     "name": "stdout",
     "output_type": "stream",
     "text": [
      "Enter stringthis is me\n",
      "ThisIsMe\n"
     ]
    }
   ],
   "source": [
    "# Exercise 3 prg 2\n",
    "str = input(\"Enter string\")\n",
    "s = \"\"\n",
    "lstr = str.split()\n",
    "for i in range(0,len(lstr)):\n",
    "    lstr[i] = lstr[i].capitalize()\n",
    "    #lstr[i] = lstr[i].replace(lstr[i][0],lstr[i][0].upper())\n",
    "print(s.join(lstr))"
   ]
  },
  {
   "cell_type": "code",
   "execution_count": 11,
   "metadata": {},
   "outputs": [
    {
     "name": "stdout",
     "output_type": "stream",
     "text": [
      "Enter stringgoel\n",
      "gOeL\n"
     ]
    }
   ],
   "source": [
    "# Exercise 3 prg 4\n",
    "str = input(\"Enter string\")\n",
    "for i in range(1,len(str),2):\n",
    "    str = str.replace(str[i],str[i].upper())\n",
    "print(str)"
   ]
  },
  {
   "cell_type": "code",
   "execution_count": 12,
   "metadata": {},
   "outputs": [
    {
     "name": "stdout",
     "output_type": "stream",
     "text": [
      "Enter emailkashish@banasthali.in\n",
      "Verified\n"
     ]
    }
   ],
   "source": [
    "# Exercise 3 prg 5\n",
    "str = input(\"Enter email\")\n",
    "a = str.find(\"@\")\n",
    "s = \"banasthali.in\"\n",
    "if(str[a+1:] == s):\n",
    "    print(\"Verified\")\n",
    "else:\n",
    "    print(\"Wrong email\")"
   ]
  },
  {
   "cell_type": "code",
   "execution_count": 13,
   "metadata": {},
   "outputs": [
    {
     "name": "stdout",
     "output_type": "stream",
     "text": [
      "Enter string hello this is me\n",
      "0\n",
      "5\n",
      "8\n"
     ]
    }
   ],
   "source": [
    "# Exercise 3 prg 6,7\n",
    "str = input(\"Enter string\")\n",
    "articles = int(str.count(\"a\")+str.count(\"an\")+str.count(\"the\"))\n",
    "vowel = int(str.count(\"a\")+str.count(\"e\")+str.count(\"i\")+str.count(\"o\")+str.count(\"u\"))\n",
    "consonents = int(len(str)-vowel-str.count(\" \"))\n",
    "print(articles)\n",
    "print(vowel)\n",
    "print(consonents)"
   ]
  },
  {
   "cell_type": "code",
   "execution_count": 14,
   "metadata": {},
   "outputs": [
    {
     "name": "stdout",
     "output_type": "stream",
     "text": [
      "Enter string not good\n",
      "yes\n"
     ]
    }
   ],
   "source": [
    "# Exercise 3 prg 9\n",
    "str = input(\"Enter string\")\n",
    "if(str.find(\"good\") >= 0):\n",
    "    print(\"yes\")\n",
    "else:\n",
    "    print(\"no\")"
   ]
  },
  {
   "cell_type": "markdown",
   "metadata": {},
   "source": [
    "# Lab 4\n",
    "1. WAP to find minimum element from a list of integers alongwith its index in the list\n",
    "2. WAP to calcualte mean of a given list of numbers\n",
    "3. WAP to search an element in a list\n",
    "4. WAP to count the frequency of an element in a list\n",
    "5. WAP to find frequencies of all elements in a list\n",
    "6. WAP to extact two slices from a list and add the slices and find which one is greater\n",
    "7. WAP to find second largest number of a list\n",
    "8. WAP to input a list of numbers and shift all zeros to the right and all non zeros to left of the list\n",
    "9. WAP to add two matrices\n",
    "10. WAP to multiply two matrices\n",
    "11. WAP to print transpose of a matrix\n",
    "12. WAP to add elements of diagonal of a matrix\n",
    "13. WAP to find an element in a matrix\n",
    "14. WAP to find inverse of a matrix"
   ]
  },
  {
   "cell_type": "code",
   "execution_count": 15,
   "metadata": {},
   "outputs": [
    {
     "name": "stdout",
     "output_type": "stream",
     "text": [
      "Enter list253784\n",
      "2\n",
      "0\n"
     ]
    }
   ],
   "source": [
    "#1\n",
    "l = list(input(\"Enter list\"))\n",
    "min = l[0]\n",
    "for i in range(len(l)-1):\n",
    "    if(l[i+1]<min):\n",
    "        min=l[i+1]\n",
    "print(min)\n",
    "print(l.index(min))"
   ]
  },
  {
   "cell_type": "code",
   "execution_count": 16,
   "metadata": {},
   "outputs": [
    {
     "name": "stdout",
     "output_type": "stream",
     "text": [
      "Enter list45753\n",
      "4.8\n"
     ]
    }
   ],
   "source": [
    "#2\n",
    "l = list(input(\"Enter list\"))\n",
    "sum = 0\n",
    "sum = int(sum)\n",
    "for i in range(len(l)):\n",
    "    sum+= int(l[i])\n",
    "mean = float(sum/len(l))\n",
    "print(mean)"
   ]
  },
  {
   "cell_type": "code",
   "execution_count": 17,
   "metadata": {},
   "outputs": [
    {
     "name": "stdout",
     "output_type": "stream",
     "text": [
      "Enter list3463933\n",
      "Enter element6\n"
     ]
    },
    {
     "data": {
      "text/plain": [
       "2"
      ]
     },
     "execution_count": 17,
     "metadata": {},
     "output_type": "execute_result"
    }
   ],
   "source": [
    "#3\n",
    "l = list(input(\"Enter list\"))\n",
    "ele = input(\"Enter element\")\n",
    "l.index(ele)"
   ]
  },
  {
   "cell_type": "code",
   "execution_count": 18,
   "metadata": {},
   "outputs": [
    {
     "name": "stdout",
     "output_type": "stream",
     "text": [
      "Enter list34489\n",
      "3 1\n",
      "4 2\n",
      "8 1\n",
      "9 1\n"
     ]
    }
   ],
   "source": [
    "#5\n",
    "l = list(input(\"Enter list\"))\n",
    "lst = []\n",
    "for i in range(len(l)):\n",
    "    if(lst.count(l[i]) == 0):\n",
    "        print(l[i],l.count(l[i]))\n",
    "        lst.append(l[i])"
   ]
  },
  {
   "cell_type": "code",
   "execution_count": 19,
   "metadata": {},
   "outputs": [
    {
     "name": "stdout",
     "output_type": "stream",
     "text": [
      "Enter list234567\n",
      "['6', '7']\n"
     ]
    }
   ],
   "source": [
    "#6\n",
    "l = list(input(\"Enter list\"))\n",
    "lenght = int(len(l)/2)\n",
    "l1 = l[0:lenght]\n",
    "l2 = l[(lenght+1):int(len(l))]\n",
    "if(l1>l2):\n",
    "    print(l1)\n",
    "else:\n",
    "    print(l2)"
   ]
  },
  {
   "cell_type": "code",
   "execution_count": 20,
   "metadata": {},
   "outputs": [
    {
     "name": "stdout",
     "output_type": "stream",
     "text": [
      "Enter list25378\n",
      "3\n",
      "2\n"
     ]
    }
   ],
   "source": [
    "#7\n",
    "l = list(input(\"Enter list\"))\n",
    "min = l[0]\n",
    "min2 = l[1]\n",
    "for i in range(2,len(l)):\n",
    "    if(l[i]<min2):\n",
    "        if(l[i]<min):\n",
    "            min=l[i]\n",
    "            min2=min\n",
    "        else:\n",
    "            min2=l[i]\n",
    "print(min2)\n",
    "print(l.index(min2))"
   ]
  },
  {
   "cell_type": "code",
   "execution_count": 21,
   "metadata": {},
   "outputs": [
    {
     "name": "stdout",
     "output_type": "stream",
     "text": [
      "Enter list0032\n",
      "['0', '0', '3', '2']\n"
     ]
    }
   ],
   "source": [
    "#8\n",
    "l = list(input(\"Enter list\"))\n",
    "i = 0\n",
    "j = len(l)-1\n",
    "while(i<j):\n",
    "    if(l[i]==0):\n",
    "        if(l[j]==0):\n",
    "            j-=1\n",
    "        if(i!=j):\n",
    "            t=l[i]\n",
    "            l[i]=l[j]\n",
    "            l[j]=t\n",
    "    i+=1\n",
    "print(l)"
   ]
  },
  {
   "cell_type": "code",
   "execution_count": 23,
   "metadata": {},
   "outputs": [
    {
     "name": "stdout",
     "output_type": "stream",
     "text": [
      "Enter no. of rows : 2\n",
      "Enter no. of columns : 2\n",
      "Enter matrix 1 :\n",
      "1\n",
      "4\n",
      "2\n",
      "3\n",
      "Enter matrix 2 :\n",
      "2\n",
      "3\n",
      "4\n",
      "5\n",
      "Added Matrix is : \n",
      "Added Matrix is : \n",
      "[3, 7]\n",
      "[6, 8]\n"
     ]
    }
   ],
   "source": [
    "#9\n",
    "mat1=[]\n",
    "mat2=[]\n",
    "r=int(input(\"Enter no. of rows : \"))\n",
    "c=int(input(\"Enter no. of columns : \"))\n",
    "print(\"Enter matrix 1 :\")\n",
    "for i in range(r):\n",
    "    a=[]\n",
    "    for j in range(c):\n",
    "        ele=int(input())\n",
    "        a.append(ele)\n",
    "    mat1.append(a)\n",
    "print(\"Enter matrix 2 :\")\n",
    "for i in range(r):\n",
    "    a=[]\n",
    "    for j in range(c):\n",
    "        ele=int(input())\n",
    "        a.append(ele)\n",
    "    mat2.append(a)\n",
    "res = [[mat1[i][j] + mat2[i][j]  for j in range(len(mat1[0]))] for i in range(len(mat1))]\n",
    "print(\"Added Matrix is : \")\n",
    "print(\"Added Matrix is : \")\n",
    "for r in res :\n",
    "    print(r)"
   ]
  },
  {
   "cell_type": "code",
   "execution_count": 24,
   "metadata": {},
   "outputs": [
    {
     "name": "stdout",
     "output_type": "stream",
     "text": [
      "Result Array : \n",
      "[13, 40]\n",
      "[14, 30]\n"
     ]
    }
   ],
   "source": [
    "#10\n",
    "mat1=[[4,3],[2,4]]\n",
    "mat2=[[1,7],[3,4]]\n",
    "res=[[0,0],[0,0]]\n",
    "for i in range(len(mat1)):\n",
    "    for j in range(len(mat2[0])):\n",
    "        for k in range(len(mat2)):\n",
    "            res[i][j]+=mat1[i][k]*mat2[k][j]\n",
    "\n",
    "print(\"Result Array : \")\n",
    "for r in res:\n",
    "    print(r)"
   ]
  },
  {
   "cell_type": "code",
   "execution_count": 25,
   "metadata": {},
   "outputs": [
    {
     "name": "stdout",
     "output_type": "stream",
     "text": [
      "Enter no. of rows : 2\n",
      "Enter no. of columns : 3\n",
      "Enter matrix :\n",
      "2\n",
      "4\n",
      "3\n",
      "6\n",
      "5\n",
      "5\n",
      "Transposed Matirx : \n",
      "[2, 6]\n",
      "[4, 5]\n",
      "[3, 5]\n"
     ]
    }
   ],
   "source": [
    "#11\n",
    "mat=[]\n",
    "r=int(input(\"Enter no. of rows : \"))\n",
    "c=int(input(\"Enter no. of columns : \"))\n",
    "print(\"Enter matrix :\")\n",
    "for i in range(r):\n",
    "    a=[]\n",
    "    for j in range(c):\n",
    "        ele=int(input())\n",
    "        a.append(ele)\n",
    "    mat.append(a)\n",
    "trans=[]\n",
    "for j in range(c):\n",
    "    trans.append([])\n",
    "    for i in range(r):\n",
    "        t=mat[i][j]\n",
    "        trans[j].append(t)\n",
    "print(\"Transposed Matirx : \")\n",
    "for r in trans:\n",
    "    print(r)"
   ]
  },
  {
   "cell_type": "code",
   "execution_count": 44,
   "metadata": {},
   "outputs": [
    {
     "name": "stdout",
     "output_type": "stream",
     "text": [
      "Enter no. of rows : 2\n",
      "Enter no. of columns : 2\n",
      "Enter matrix :\n",
      "1\n",
      "2\n",
      "3\n",
      "4\n",
      "5\n"
     ]
    }
   ],
   "source": [
    "#12\n",
    "mat=[]\n",
    "r=int(input(\"Enter no. of rows : \"))\n",
    "c=int(input(\"Enter no. of columns : \"))\n",
    "print(\"Enter matrix :\")\n",
    "for i in range(r):\n",
    "    a=[]\n",
    "    for j in range(c):\n",
    "        ele=int(input())\n",
    "        a.append(ele)\n",
    "    mat.append(a)\n",
    "sum=int(0)\n",
    "for i in range(r):\n",
    "    for j in range(c):\n",
    "        if i==j:\n",
    "            sum+=mat[i][j]\n",
    "            break\n",
    "print(sum)"
   ]
  },
  {
   "cell_type": "code",
   "execution_count": 47,
   "metadata": {},
   "outputs": [
    {
     "name": "stdout",
     "output_type": "stream",
     "text": [
      "Enter no. of rows : 2\n",
      "Enter no. of columns : 2\n",
      "Enter matrix :\n",
      "1\n",
      "2\n",
      "3\n",
      "4\n",
      "Enter Element to be searched : 2\n",
      "0 1\n"
     ]
    }
   ],
   "source": [
    "# 13\n",
    "mat=[]\n",
    "r=int(input(\"Enter no. of rows : \"))\n",
    "c=int(input(\"Enter no. of columns : \"))\n",
    "print(\"Enter matrix :\")\n",
    "for i in range(r):\n",
    "    a=[]\n",
    "    for j in range(c):\n",
    "        ele=int(input())\n",
    "        a.append(ele)\n",
    "    mat.append(a)\n",
    "elem=int(input(\"Enter Element to be searched : \"))\n",
    "ind_r=0\n",
    "ind_c=0\n",
    "flag=0\n",
    "for i in range(r):\n",
    "    for j in range(c):\n",
    "        if mat[i][j]==elem :\n",
    "            ind_r=i\n",
    "            ind_c=j\n",
    "            flag=1\n",
    "            break\n",
    "if flag==1:\n",
    "    print(str(ind_r), str(ind_c))\n",
    "else:\n",
    "    print(\"Element not found.\")"
   ]
  },
  {
   "cell_type": "code",
   "execution_count": 48,
   "metadata": {},
   "outputs": [
    {
     "name": "stdout",
     "output_type": "stream",
     "text": [
      "Enter no. of rows : 2\n",
      "Enter no. of columns : 3\n",
      "Enter matrix :\n",
      "1\n",
      "2\n",
      "3\n",
      "4\n",
      "5\n",
      "6\n"
     ]
    }
   ],
   "source": [
    "# 14\n",
    "mat=[]\n",
    "r=int(input(\"Enter no. of rows : \"))\n",
    "c=int(input(\"Enter no. of columns : \"))\n",
    "print(\"Enter matrix :\")\n",
    "for i in range(r):\n",
    "    a=[]\n",
    "    for j in range(c):\n",
    "        ele=int(input())\n",
    "        a.append(ele)\n",
    "    mat.append(a)"
   ]
  },
  {
   "cell_type": "markdown",
   "metadata": {},
   "source": [
    "# Lab 5\n",
    "1. Write a function in python to find max of three numbers\n",
    "2. Write a function in python to sum all the numbers in a list\n",
    "3. Write a function in python to multiply all the numbrers in a list\n",
    "4. Write a function in python to reverse a string\n",
    "5. Write a function in python that takes a list and returns a new list with unique elements of the first list\n",
    "6. Write a function in python that checks whether a passed string is palindrome or not\n",
    "7. Write a function in python to access a function inside a function\n",
    "8. Write a function in python to generate even series upto the nth term\n",
    "9. Write a function in python to check if a number is prime or not\n",
    "10. Write a function in python to generate prime series between range inputted by a user.\n",
    "11. Write a recursive function in python to sum all the numbers in a list\n",
    "12. Write a recursive function in python to multiply all the numbrers in a list\n",
    "13. Write a recursive function in python to reverse a string\n",
    "14. Write a recursive function in python that takes a list and returns a new list with unique elements of the first list\n",
    "15. Write a recursive function in python that checks whether a passed string is palindrome or not\n",
    "16. Write a recursive function in python to generate even series upto the nth term\n",
    "17. Write a recursive function in python to check if a number is prime or not\n",
    "18. Write a recursive function in python to generate prime series between range inputted by a user."
   ]
  },
  {
   "cell_type": "code",
   "execution_count": 49,
   "metadata": {},
   "outputs": [],
   "source": [
    "#1\n",
    "def max(a,b,c):\n",
    "    m = a if (a if a > b else b)>c else c \n",
    "    print(m)"
   ]
  },
  {
   "cell_type": "code",
   "execution_count": 50,
   "metadata": {},
   "outputs": [
    {
     "name": "stdout",
     "output_type": "stream",
     "text": [
      "3\n"
     ]
    }
   ],
   "source": [
    "max(1,2,3)"
   ]
  },
  {
   "cell_type": "code",
   "execution_count": 51,
   "metadata": {},
   "outputs": [],
   "source": [
    "#2\n",
    "def sum(l):\n",
    "    s = 0\n",
    "    for i in range(len(l)):\n",
    "        s+= int(l[i])\n",
    "    print(s)"
   ]
  },
  {
   "cell_type": "code",
   "execution_count": 54,
   "metadata": {},
   "outputs": [
    {
     "name": "stdout",
     "output_type": "stream",
     "text": [
      "Enter list012\n",
      "3\n"
     ]
    }
   ],
   "source": [
    "l = list(input(\"Enter list\"))\n",
    "sum(l)"
   ]
  },
  {
   "cell_type": "code",
   "execution_count": 55,
   "metadata": {},
   "outputs": [],
   "source": [
    "#3\n",
    "def mul(l):\n",
    "    m= 1\n",
    "    for i in range(len(l)):\n",
    "        m= m*int(l[i])\n",
    "    print(m)"
   ]
  },
  {
   "cell_type": "code",
   "execution_count": 56,
   "metadata": {},
   "outputs": [
    {
     "name": "stdout",
     "output_type": "stream",
     "text": [
      "Enter list1223\n",
      "12\n"
     ]
    }
   ],
   "source": [
    "l = list(input(\"Enter list\"))\n",
    "mul(l)"
   ]
  },
  {
   "cell_type": "code",
   "execution_count": 57,
   "metadata": {},
   "outputs": [],
   "source": [
    "#4\n",
    "def rev(s):\n",
    "    r = s[::-1]\n",
    "    print(r)"
   ]
  },
  {
   "cell_type": "code",
   "execution_count": 58,
   "metadata": {},
   "outputs": [
    {
     "name": "stdout",
     "output_type": "stream",
     "text": [
      "hsihsaK\n"
     ]
    }
   ],
   "source": [
    "rev(\"Kashish\")"
   ]
  },
  {
   "cell_type": "code",
   "execution_count": 59,
   "metadata": {},
   "outputs": [],
   "source": [
    "#6\n",
    "def palin(str):\n",
    "    ss= str[::-1]                 #to reverse the string\n",
    "    print(str)\n",
    "    print(ss)\n",
    "    if(str == ss):\n",
    "        print(\"palindrome\")\n",
    "    else:\n",
    "        print('Not palindrome')"
   ]
  },
  {
   "cell_type": "code",
   "execution_count": 60,
   "metadata": {},
   "outputs": [
    {
     "name": "stdout",
     "output_type": "stream",
     "text": [
      "Enter a stringastrophysics\n",
      "astrophysics\n",
      "scisyhportsa\n",
      "Not palindrome\n"
     ]
    }
   ],
   "source": [
    "str = input(\"Enter a string\")\n",
    "palin(str)"
   ]
  },
  {
   "cell_type": "code",
   "execution_count": 61,
   "metadata": {},
   "outputs": [
    {
     "name": "stdout",
     "output_type": "stream",
     "text": [
      "First Function\n",
      "Second Function\n"
     ]
    }
   ],
   "source": [
    "#7\n",
    "def fun1():\n",
    "    print(\"First Function\")\n",
    "    fun2()\n",
    "def fun2():\n",
    "    print(\"Second Function\")\n",
    "fun1()"
   ]
  },
  {
   "cell_type": "code",
   "execution_count": 62,
   "metadata": {},
   "outputs": [
    {
     "name": "stdout",
     "output_type": "stream",
     "text": [
      "0 2 4 6 "
     ]
    }
   ],
   "source": [
    "#8\n",
    "def even_s(n):\n",
    "    for i in range(n):\n",
    "        if(i%2 == 0):\n",
    "            print(i, end=\" \")\n",
    "even_s(8)"
   ]
  },
  {
   "cell_type": "code",
   "execution_count": 63,
   "metadata": {},
   "outputs": [
    {
     "name": "stdout",
     "output_type": "stream",
     "text": [
      "Enter number6\n",
      "Not a prime number\n"
     ]
    }
   ],
   "source": [
    "#9\n",
    "def prime(n):\n",
    "    c=0\n",
    "    for i in range(1,n):\n",
    "        if n%i == 0:\n",
    "            c+=1\n",
    "    if c == 1:\n",
    "        print(\"Prime number\")\n",
    "    else:\n",
    "        print(\"Not a prime number\")\n",
    "    \n",
    "n = int(input(\"Enter number\"))\n",
    "prime(n)"
   ]
  },
  {
   "cell_type": "code",
   "execution_count": 64,
   "metadata": {},
   "outputs": [
    {
     "name": "stdout",
     "output_type": "stream",
     "text": [
      "2 3 "
     ]
    }
   ],
   "source": [
    "#10\n",
    "def prime_s(n):\n",
    "    for j in range(n):\n",
    "        c = 0\n",
    "        for i in range(1,j):\n",
    "            if j%i == 0:\n",
    "                c+=1\n",
    "        if c == 1:\n",
    "            print(j, end=\" \")\n",
    "prime_s(5)"
   ]
  },
  {
   "cell_type": "code",
   "execution_count": 65,
   "metadata": {},
   "outputs": [
    {
     "name": "stdout",
     "output_type": "stream",
     "text": [
      "Enter list0126\n"
     ]
    },
    {
     "data": {
      "text/plain": [
       "9"
      ]
     },
     "execution_count": 65,
     "metadata": {},
     "output_type": "execute_result"
    }
   ],
   "source": [
    "#11\n",
    "def sum_no(n,l):\n",
    "    if n == 0:\n",
    "        return int(l[n])\n",
    "    else:\n",
    "        return(int(l[n])+sum_no(n-1,l))\n",
    "l = list(input(\"Enter list\"))\n",
    "sum_no((len(l)-1),l)"
   ]
  },
  {
   "cell_type": "code",
   "execution_count": 66,
   "metadata": {},
   "outputs": [
    {
     "name": "stdout",
     "output_type": "stream",
     "text": [
      "Enter list2346\n"
     ]
    },
    {
     "data": {
      "text/plain": [
       "144"
      ]
     },
     "execution_count": 66,
     "metadata": {},
     "output_type": "execute_result"
    }
   ],
   "source": [
    "#12\n",
    "def mul_no(n,l):\n",
    "    if n == 0:\n",
    "        return int(l[n])\n",
    "    else:\n",
    "        return(int(l[n])*mul_no(n-1,l))\n",
    "l = list(input(\"Enter list\"))\n",
    "mul_no((len(l)-1),l)"
   ]
  },
  {
   "cell_type": "code",
   "execution_count": 67,
   "metadata": {},
   "outputs": [
    {
     "name": "stdout",
     "output_type": "stream",
     "text": [
      "dlrowolleh\n"
     ]
    }
   ],
   "source": [
    "#13\n",
    "def revstr(str,n):\n",
    "    if n==0:\n",
    "        return str[0]\n",
    "    return str[n]+revstr(str,n-1)\n",
    "\n",
    "print(revstr(\"helloworld\",9))"
   ]
  },
  {
   "cell_type": "code",
   "execution_count": 68,
   "metadata": {},
   "outputs": [
    {
     "name": "stdout",
     "output_type": "stream",
     "text": [
      "Enter size : 4\n",
      "Enter the element :12\n",
      "Enter the element :23\n",
      "Enter the element :45\n",
      "Enter the element :7\n",
      "[12, 23, 45, 7]\n",
      "[]\n"
     ]
    }
   ],
   "source": [
    "#14\n",
    "def unique(list1,list2,n,i):\n",
    "    if i in list1:\n",
    "        list2.append(list1[i])\n",
    "        unique(list1,list2,n,i+1)\n",
    "    return list2\n",
    "\n",
    "\n",
    "list1=[]\n",
    "n=int(input(\"Enter size : \"))\n",
    "for i in range(n):\n",
    "    a=int(input(\"Enter the element :\"))\n",
    "    list1.append(a)\n",
    "print(list1)\n",
    "list2=[]\n",
    "list2=unique(list1,list2,n-1,0)\n",
    "print(list2)"
   ]
  },
  {
   "cell_type": "code",
   "execution_count": 69,
   "metadata": {},
   "outputs": [
    {
     "name": "stdout",
     "output_type": "stream",
     "text": [
      "No\n"
     ]
    }
   ],
   "source": [
    "#15\n",
    "def isPal(st, s, e) : \n",
    "    if (s == e): \n",
    "        return True\n",
    "    if (st[s] != st[e]) : \n",
    "        return False\n",
    "    if (s < e + 1) : \n",
    "        return isPalRec(st, s + 1, e - 1); \n",
    "  \n",
    "    return True\n",
    "  \n",
    "def isPalindrome(st) : \n",
    "    n = len(st) \n",
    "    if (n == 0) : \n",
    "        return True\n",
    "      \n",
    "    return isPal(st, 0, n - 1); \n",
    "  \n",
    "st = \"kashish\"\n",
    "if (isPalindrome(st)) : \n",
    "    print(\"Yes\")\n",
    "else : \n",
    "    print(\"No\")"
   ]
  },
  {
   "cell_type": "code",
   "execution_count": 71,
   "metadata": {},
   "outputs": [
    {
     "name": "stdout",
     "output_type": "stream",
     "text": [
      "Enter a number5\n",
      "0\n",
      "2\n",
      "4\n"
     ]
    }
   ],
   "source": [
    "#16\n",
    "def rec_even(s,n):\n",
    "    if s>=n:\n",
    "        if(n%2 == 0):\n",
    "            print(n)\n",
    "    elif(s%2 == 0):\n",
    "            print(s)\n",
    "            return rec_even(s+2,n)\n",
    "num = int(input(\"Enter a number\"))\n",
    "rec_even(0,num)"
   ]
  },
  {
   "cell_type": "code",
   "execution_count": 73,
   "metadata": {},
   "outputs": [
    {
     "name": "stdout",
     "output_type": "stream",
     "text": [
      "Enter a number6\n",
      "False\n"
     ]
    }
   ],
   "source": [
    "#17\n",
    "def rec_prime(n,i):\n",
    "        if n<=2:\n",
    "            if n==2:\n",
    "                return True\n",
    "        return False\n",
    "        if n%i==0:\n",
    "            return False\n",
    "        if(i*i>n):\n",
    "            return True\n",
    "        return re_cprime(n,i+1)\n",
    "num=int(input(\"Enter a number\"))\n",
    "print(rec_prime(num,2))"
   ]
  },
  {
   "cell_type": "code",
   "execution_count": 74,
   "metadata": {},
   "outputs": [
    {
     "name": "stdout",
     "output_type": "stream",
     "text": [
      "Enter a number8\n"
     ]
    }
   ],
   "source": [
    "#18\n",
    "def prime(n):\n",
    "    for j in range(n):\n",
    "        c = 0\n",
    "        for i in range(1,j):\n",
    "            if j%i == 0:\n",
    "                c+=1\n",
    "        if c == 1:\n",
    "            return True\n",
    "        else:\n",
    "            return False\n",
    "def rec_prime(s,num):\n",
    "    if s>=num:\n",
    "        t=prime(s)\n",
    "        if t==True:\n",
    "            print(s)\n",
    "    else:\n",
    "        t=prime(s)\n",
    "        if t==True:\n",
    "            print(s)\n",
    "        return rec_prime(s+1,num)\n",
    "num = int(input(\"Enter a number\"))\n",
    "rec_prime(0,num)"
   ]
  },
  {
   "cell_type": "markdown",
   "metadata": {},
   "source": [
    "# Lab 6\n",
    "1. WAP to read a file and print the number of characters, words and lines it has\n",
    "2. WAP to copy contents of one file into another file\n",
    "3. WAP to read a file and count the number of vowels it has\n",
    "4. WAP to read a file and count the number of articles it has\n",
    "5. WAP to read a file reverse the contents of file (last line of the file should become the first line of the file)"
   ]
  },
  {
   "cell_type": "code",
   "execution_count": 75,
   "metadata": {},
   "outputs": [],
   "source": [
    "f = open(r'D:\\Kashish Goel\\Sample.txt')"
   ]
  },
  {
   "cell_type": "code",
   "execution_count": 76,
   "metadata": {},
   "outputs": [
    {
     "name": "stdout",
     "output_type": "stream",
     "text": [
      "Btech CSE III Year\n",
      "Kashish Goel\n",
      "This is a New Sample file generated for File Handling in Pyhton.\n",
      "\n"
     ]
    }
   ],
   "source": [
    "print(f.read())"
   ]
  },
  {
   "cell_type": "code",
   "execution_count": 77,
   "metadata": {},
   "outputs": [
    {
     "name": "stdout",
     "output_type": "stream",
     "text": [
      "Btech CSE III Year\n",
      "\n",
      "Kashish Goel\n",
      "\n",
      "This is a New Sample file generated for File Handling in Pyhton.\n",
      "\n"
     ]
    }
   ],
   "source": [
    "f = open(r'D:\\Kashish Goel\\Sample.txt')\n",
    "words=0\n",
    "lines =0;\n",
    "for line in f:\n",
    "    print(line)\n",
    "f.close()"
   ]
  },
  {
   "cell_type": "code",
   "execution_count": 78,
   "metadata": {},
   "outputs": [
    {
     "name": "stdout",
     "output_type": "stream",
     "text": [
      "3\n"
     ]
    }
   ],
   "source": [
    "f = open(r'D:\\Kashish Goel\\Sample.txt')# no of lines\n",
    "words=0\n",
    "lines =0;\n",
    "for line in f:\n",
    "    lines=lines+1\n",
    "print(lines)\n",
    "f.close()"
   ]
  },
  {
   "cell_type": "code",
   "execution_count": 79,
   "metadata": {},
   "outputs": [
    {
     "name": "stdout",
     "output_type": "stream",
     "text": [
      "3\n",
      "18\n",
      "97\n"
     ]
    }
   ],
   "source": [
    "#1\n",
    "f = open(r'D:\\Kashish Goel\\Sample.txt')# no of lines\n",
    "words=0\n",
    "lines =0    \n",
    "for line in f:\n",
    "    lines=lines+1\n",
    "    word = line.split()\n",
    "    words= words + len(word)\n",
    "print(lines)\n",
    "print(words)\n",
    "f.seek(0) \n",
    "fo = f.read() # read  file in one go  \n",
    "print(len(fo))\n",
    "f.close()"
   ]
  },
  {
   "cell_type": "code",
   "execution_count": 80,
   "metadata": {},
   "outputs": [
    {
     "name": "stdout",
     "output_type": "stream",
     "text": [
      "Btech CSE III Year\n",
      "Kashish Goel\n",
      "This is a New Sample file generated for File Handling in Pyhton.\n",
      "\n"
     ]
    }
   ],
   "source": [
    "#2\n",
    "\n",
    "f=open(r'D:\\Kashish Goel\\Sample.txt')\n",
    "f1 = open(\"Copy.txt\", \"w+\") \n",
    "for line in f:\n",
    "    f1.write(line)\n",
    "\n",
    "f1.seek(0)\n",
    "print(f1.read())\n",
    "f.close()\n",
    "f1.close()"
   ]
  },
  {
   "cell_type": "code",
   "execution_count": 81,
   "metadata": {},
   "outputs": [
    {
     "name": "stdout",
     "output_type": "stream",
     "text": [
      "30\n"
     ]
    }
   ],
   "source": [
    "#3\n",
    "\n",
    "f=open(r'D:\\Kashish Goel\\Sample.txt')\n",
    "fo=f.read()\n",
    "vowels=0\n",
    "for i in fo:\n",
    "    if i in ('a','e','i','o','u','A','E','I','O','U'):\n",
    "        vowels=vowels+1\n",
    "print(vowels)"
   ]
  },
  {
   "cell_type": "code",
   "execution_count": 82,
   "metadata": {},
   "outputs": [
    {
     "name": "stdout",
     "output_type": "stream",
     "text": [
      "1\n"
     ]
    }
   ],
   "source": [
    "#4\n",
    "\n",
    "f=open(r'D:\\Kashish Goel\\Sample.txt')\n",
    "articles=0\n",
    "for line in f:\n",
    "    sentence=line.split()\n",
    "    for word in sentence:\n",
    "        if word in ('a','an','the','A','An','The'):\n",
    "            articles+=1\n",
    "print(articles)"
   ]
  },
  {
   "cell_type": "code",
   "execution_count": 83,
   "metadata": {},
   "outputs": [
    {
     "name": "stdout",
     "output_type": "stream",
     "text": [
      "This is a New Sample file generated for File Handling in Pyhton.\n",
      "Kashish Goel\n",
      "Btech CSE III Year\n",
      "\n"
     ]
    }
   ],
   "source": [
    "#5\n",
    "    \n",
    "f=open(r'D:\\Kashish Goel\\Sample.txt')\n",
    "list=[]\n",
    "for line in f:\n",
    "    list.append(line)\n",
    "f.close()\n",
    "f=open(r'D:\\Kashish Goel\\Sample.txt',\"w+\")\n",
    "for i in range(len(list)-1,-1,-1):\n",
    "    f.write(list[i])\n",
    "f.seek(0)\n",
    "print(f.read())\n",
    "f.close()"
   ]
  },
  {
   "cell_type": "code",
   "execution_count": null,
   "metadata": {},
   "outputs": [],
   "source": []
  }
 ],
 "metadata": {
  "kernelspec": {
   "display_name": "Python 3",
   "language": "python",
   "name": "python3"
  },
  "language_info": {
   "codemirror_mode": {
    "name": "ipython",
    "version": 3
   },
   "file_extension": ".py",
   "mimetype": "text/x-python",
   "name": "python",
   "nbconvert_exporter": "python",
   "pygments_lexer": "ipython3",
   "version": "3.8.5"
  }
 },
 "nbformat": 4,
 "nbformat_minor": 4
}
