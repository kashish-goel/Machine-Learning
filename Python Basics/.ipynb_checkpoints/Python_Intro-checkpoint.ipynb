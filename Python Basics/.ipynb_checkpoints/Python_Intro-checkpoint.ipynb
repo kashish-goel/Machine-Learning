{
 "cells": [
  {
   "cell_type": "markdown",
   "metadata": {},
   "source": [
    "# Check\n",
    "    0-3 - Toddler\n",
    "    Above 0-3 - Toddler\n",
    "    Above 3 - 12 - Kid\n",
    "    Above 12 - 19 - Teen\n",
    "    Above 19 - 30 - Young Adults\n",
    "    Above 30 - 50 - Adults\n",
    "    Above 50 - 60 - Mature\n",
    "    Above 60 - 80 - Senior Citizens\n",
    "    Above 80 - Super Senior Citizens\n"
   ]
  },
  {
   "cell_type": "code",
   "execution_count": 1,
   "metadata": {},
   "outputs": [
    {
     "name": "stdout",
     "output_type": "stream",
     "text": [
      "Enter age12\n",
      "<class 'int'>\n",
      "Kid\n"
     ]
    }
   ],
   "source": [
    "age = input(\"Enter age\")  # By default any variable as String \n",
    "age = int(age) #explicit type casting   int(), float()\n",
    "print(type(age))  #to check type of a datatype\n",
    "if age <= 3:\n",
    "    print(\"Toddler\")\n",
    "elif age > 3 and age <= 12:\n",
    "    print (\"Kid\")\n",
    "elif age > 12 and age <= 19:\n",
    "    print(\"Teen\")\n",
    "elif age > 19 and age <= 30:\n",
    "    print(\"Young Adult\")\n",
    "elif age > 30 and age < 50:\n",
    "    print(\"Adult\")\n",
    "elif age >= 50 and age < 60:\n",
    "    print(\"mature\")\n",
    "elif age >= 60 and age < 80:\n",
    "    print(\"Senior Citizens\")\n",
    "else:\n",
    "    print(\"Super Senior Citizens\")"
   ]
  },
  {
   "cell_type": "markdown",
   "metadata": {},
   "source": [
    "# Exercise 1\n",
    "    1.Wap to check is a number is divisible by 5\n",
    "    2.Wap to check if no. is even or odd\n",
    "    3.WAP to check if roots of a quadratic equation are real,real and equal or immaginary\n",
    "    4.WAP to print grades of a student\n",
    "        Less than 40 - NC\n",
    "        40 - Less than 50 - D\n",
    "        50 - Less than 60 - C\n",
    "        60 - Less than 70 - B\n",
    "        70 - Less than 80 - A\n",
    "        80 and Above - O\n",
    "    5.WAP print the Electricity Bill\n",
    "        Upto 200 - 0.5/unit\n",
    "        201 - 500 - 1/unit for units consumed above 200\n",
    "        501 - 1000 - 2.5/unit \" \" 500\n",
    "        10001 - 1500 - 3.5/unit\n",
    "        1501 - 2500 - 5/unit\n",
    "        Above 2500 - 10/unit"
   ]
  },
  {
   "cell_type": "code",
   "execution_count": 3,
   "metadata": {},
   "outputs": [
    {
     "name": "stdout",
     "output_type": "stream",
     "text": [
      "Enter a number40\n",
      "40\n",
      "Number is divisible by 5\n"
     ]
    }
   ],
   "source": [
    "# Exercise ! prg 1\n",
    "n = input(\"Enter a number\")\n",
    "n = int(n)\n",
    "print(n)\n",
    "if n%5 == 0:\n",
    "    print(\"Number is divisible by 5\")\n",
    "else:\n",
    "    print(\"Not divisible by 5\")"
   ]
  },
  {
   "cell_type": "code",
   "execution_count": 5,
   "metadata": {},
   "outputs": [
    {
     "name": "stdout",
     "output_type": "stream",
     "text": [
      "Enter a number3\n",
      "3\n",
      "Number is Odd\n"
     ]
    }
   ],
   "source": [
    "# Exercise 1 prg 2\n",
    "n = input(\"Enter a number\")\n",
    "n = int(n)\n",
    "print(n)\n",
    "if n%2 == 0:\n",
    "    print(\"Number is Even\")\n",
    "else:\n",
    "    print(\"Number is Odd\")"
   ]
  },
  {
   "cell_type": "code",
   "execution_count": 9,
   "metadata": {},
   "outputs": [
    {
     "name": "stdout",
     "output_type": "stream",
     "text": [
      "1\n",
      "1\n",
      "1\n",
      "-3\n",
      "Roots are Imaginary\n"
     ]
    }
   ],
   "source": [
    "# Exercise 1 prg 3\n",
    "a = int(input())\n",
    "b = int(input())\n",
    "c = int(input())\n",
    "d = (b*b)-(4*a*c)\n",
    "d = int(d)\n",
    "print(d)\n",
    "if d > 0:\n",
    "    print(\"Roots are Real\")\n",
    "elif d == 0:\n",
    "    print(\"Roots are real and equal\")\n",
    "else:\n",
    "    print(\"Roots are Imaginary\")"
   ]
  },
  {
   "cell_type": "code",
   "execution_count": null,
   "metadata": {},
   "outputs": [],
   "source": [
    "# Exercise 1 prg 4\n",
    "# WAP to print grades of a student\n",
    "#        Less than 40 - NC\n",
    "#        40 - Less than 50 - D\n",
    "#        50 - Less than 60 - C\n",
    "#        60 - Less than 70 - B\n",
    "#        70 - Less than 80 - A\n",
    "#        80 and Above - O\n",
    "marks = int(input(\"Enter marks\"))  # By default any variable as String \n",
    "if marks < 40:\n",
    "    print (\"NC\")\n",
    "elif marks > 40 and marks < 50:\n",
    "    print(\"Grade D\")\n",
    "elif marks > 50 and marks < 60:\n",
    "    print(\"Grade C\")\n",
    "elif marks > 60 and marks < 70:\n",
    "    print(\"Grade B\")\n",
    "elif marks > 70 and marks < 80:\n",
    "    print(\"Grade A\")\n",
    "elif marks > 80:\n",
    "    print(\"Grade O\")"
   ]
  },
  {
   "cell_type": "code",
   "execution_count": null,
   "metadata": {},
   "outputs": [],
   "source": [
    "# Exercise 1 prg 5\n",
    "# WAP print the Electricity Bill\n",
    "#        Upto 200 - 0.5/unit\n",
    "#        201 - 500 - 1/unit for units consumed above 200\n",
    "#        501 - 1000 - 2.5/unit \" \" 500\n",
    "#        10001 - 1500 - 3.5/unit\n",
    "#        1501 - 2500 - 5/unit\n",
    "#        Above 2500 - 10/unit\n",
    "unit = int(input(\"Enter units\"))  # By default any variable as String \n",
    "if unit <= 200:\n",
    "    bill = (0.5*unit)\n",
    "elif unit > 200 and unit <= 500:\n",
    "    bill = (0.5*200) + ((unit-200)*1)\n",
    "elif unit > 500 and unit <= 1000:\n",
    "    bill = (0.5*200) + (500*1) + ((unit-500)*2.5)\n",
    "elif unit > 1000 and unit <= 1500:\n",
    "    bill = (0.5*200) + (500*1) + (1000*2.5) + ((unit-1000)*3.5)\n",
    "elif unit > 1500 and unit <= 2500:\n",
    "    bill = (0.5*200) + (500*1) + (1000*2.5) + (1500*3.5) + ((unit-1500)*5)\n",
    "elif unit > 2500:\n",
    "    bill = (0.5*200) + (500*1) + (1000*2.5) + (1500*3.5) + (2500*5) + ((unit-2500)*10)\n",
    "bill = float(bill)\n",
    "print(bill)"
   ]
  }
 ],
 "metadata": {
  "kernelspec": {
   "display_name": "Python 3",
   "language": "python",
   "name": "python3"
  },
  "language_info": {
   "codemirror_mode": {
    "name": "ipython",
    "version": 3
   },
   "file_extension": ".py",
   "mimetype": "text/x-python",
   "name": "python",
   "nbconvert_exporter": "python",
   "pygments_lexer": "ipython3",
   "version": "3.8.5"
  }
 },
 "nbformat": 4,
 "nbformat_minor": 4
}
